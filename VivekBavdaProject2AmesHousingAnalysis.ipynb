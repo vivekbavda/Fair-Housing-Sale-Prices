{
 "cells": [
  {
   "cell_type": "markdown",
   "id": "7b8f549b",
   "metadata": {},
   "source": [
    "# Vivek Bavda:\n",
    "## DSIR 7/12\n",
    "### Project 2 August 9, 2021 \n",
    "### Predicting Sales of Homes in Ames, Iowa"
   ]
  },
  {
   "cell_type": "markdown",
   "id": "c70608d9",
   "metadata": {},
   "source": [
    "### Introduction:\n",
    "*As you  are aware, you've asked me to predict*"
   ]
  },
  {
   "cell_type": "markdown",
   "id": "17242a26",
   "metadata": {},
   "source": [
    "### Contents:\n",
    "- [Background](#Background)\n",
    "- [Data Import & Cleaning](#Data-Import-and-Cleaning)\n",
    "- [Exploratory Data Analysis](#Exploratory-Data-Analysis)\n",
    "- [Data Visualization](#Visualize-the-Data)\n",
    "- [Conclusions and Recommendations](#Conclusions-and-Recommendations)"
   ]
  },
  {
   "cell_type": "markdown",
   "id": "81582144",
   "metadata": {},
   "source": [
    "## Background"
   ]
  },
  {
   "cell_type": "markdown",
   "id": "a43102e4",
   "metadata": {},
   "source": [
    "The SAT and ACT are standardized tests that many colleges and universities in the United States require for their admissions process. This score is used along with other materials such as grade point average (GPA) and essay responses to determine whether or not a potential student will be accepted to the university. However, despite growth in locally determined outcomes, the SAT and ACT snapshots often are seen as the main evaluation point by your constituents. To the extent our students score well, it allows us greater political capital to institue educational reforms. It is imperative that we choose and mandate by state and local regulations which test demonstrates higher scores and bests represents our students' achievements.\n",
    "\n",
    "This requires us to analyze the format and results of the SAT and ACT. The SAT has two sections of the test: Evidence-Based Reading and Writing and Math ([*source*](https://www.princetonreview.com/college/sat-sections.)) The ACT has 4 sections: English, Mathematics, Reading, and Science, with an additional optional writing section ([*source*](https://www.act.org/content/act/en/products-and-services/the-act/scores/understanding-your-scores.html)). \n",
    "* [SAT](https://collegereadiness.collegeboard.org/sat)\n",
    "* [ACT](https://www.act.org/content/act/en.html)\n",
    "\n",
    "It is important to also keep in "
   ]
  },
  {
   "cell_type": "markdown",
   "id": "d995a644",
   "metadata": {},
   "source": [
    "### Ames Houding datasets from 2006 - 2010 were used in this analysis.\n",
    "\n",
    "* [AmesDatasetTrain']('./datasets/train.csv'):  What it is\n",
    "   https://wwwgov/ds/sp/ai/\n",
    "\n",
    "* ['AmesDatasetTest'](./datasets/test.csv'='./datasets/train.csv'(../data/sat_2019_ca.csv): 2019 SAT Scores in California by School, District and County. The data was collected from https://wwwgov/ds/sp/ai/\n",
    "    The total number of testakers is listed. The dataset also breaks the scores down by grade level. Benchmarks are listed for the two measurement categories. First, the number of students who met or exceeded the benchmark for reading & writing is listed. Second, the number of students who met or exceeded the benchmark for math. There is also a category for meeting both benchmarks.\n",
    "    \n",
    "* ['AmesDatasetKagl']('./datasets/sample_sub_reg.csv'):\n",
    "https://wwwgov/ds/sp/ai/"
   ]
  },
  {
   "cell_type": "markdown",
   "id": "6f826422",
   "metadata": {},
   "source": [
    "### Outside Research"
   ]
  },
  {
   "cell_type": "markdown",
   "id": "92ae9c22",
   "metadata": {},
   "source": [
    "Based on your problem statement and your chosen datasets, spend some time doing outside research on state policies or additional information that might be relevant. Summarize your findings below. If you bring in any outside tables or charts, make sure you are explicit about having borrowed them. If you quote any text, make sure that it renders as being quoted. **Make sure that you cite your sources.**"
   ]
  },
  {
   "cell_type": "markdown",
   "id": "eefbb973",
   "metadata": {},
   "source": [
    "## Data cleaning:"
   ]
  },
  {
   "cell_type": "code",
   "execution_count": 104,
   "id": "3fa0f5bf",
   "metadata": {},
   "outputs": [],
   "source": [
    "#importing libraries\n",
    "import pandas as pd\n",
    "import numpy as np\n",
    "import matplotlib.pyplot as plt\n",
    "import seaborn as sns\n",
    "\n",
    "from sklearn.linear_model import LinearRegression\n",
    "from sklearn.model_selection import train_test_split, cross_val_score, cross_validate, KFold\n",
    "from sklearn.preprocessing import PolynomialFeatures, StandardScaler\n",
    "from sklearn.metrics import r2_score\n",
    "from sklearn import metrics\n",
    "import statsmodels.api as sm\n",
    "import patsy\n",
    "#For EDA and Data cleaning\n",
    "def datacleaning(feature):\n",
    "    print(dftrain[feature].describe())\n",
    "    print(dftrain[feature].isnull().sum())\n",
    "    print(dftrain[feature].unique())\n",
    "    print(dftrain[feature].value_counts())\n",
    "    print(dftest[feature].describe())\n",
    "    print(dftest[feature].isnull().sum())\n",
    "    print(dftest[feature].unique())\n",
    "    print(dftest[feature].value_counts())\n",
    "    print(dftrain[feature].hist())\n",
    "    sns.pairplot(dftrain, x_vars=[feature], y_vars=['SalePrice'])\n",
    "    print(dftrain[[feature, 'SalePrice']].corr())\n",
    "    return"
   ]
  },
  {
   "cell_type": "code",
   "execution_count": 77,
   "id": "0b7760c0",
   "metadata": {},
   "outputs": [],
   "source": [
    "AmesDatasetTrain='./datasets/train.csv'\n",
    "\n",
    "AmesDatasetTest='./datasets/test.csv'\n",
    "\n",
    "AmesDatasetKagle='./datasets/sample_sub_reg.csv'\n",
    "\n",
    "dftrain=pd.read_csv(AmesDatasetTrain)\n",
    "\n",
    "dftest=pd.read_csv(AmesDatasetTest)\n",
    "\n",
    "dfkagle=pd.read_csv(AmesDatasetKagle)"
   ]
  },
  {
   "cell_type": "code",
   "execution_count": 98,
   "id": "2806425a",
   "metadata": {},
   "outputs": [
    {
     "data": {
      "text/html": [
       "<div>\n",
       "<style scoped>\n",
       "    .dataframe tbody tr th:only-of-type {\n",
       "        vertical-align: middle;\n",
       "    }\n",
       "\n",
       "    .dataframe tbody tr th {\n",
       "        vertical-align: top;\n",
       "    }\n",
       "\n",
       "    .dataframe thead th {\n",
       "        text-align: right;\n",
       "    }\n",
       "</style>\n",
       "<table border=\"1\" class=\"dataframe\">\n",
       "  <thead>\n",
       "    <tr style=\"text-align: right;\">\n",
       "      <th></th>\n",
       "      <th>Id</th>\n",
       "      <th>PID</th>\n",
       "      <th>MS SubClass</th>\n",
       "      <th>MS Zoning</th>\n",
       "      <th>Lot Frontage</th>\n",
       "      <th>Lot Area</th>\n",
       "      <th>Street</th>\n",
       "      <th>Alley</th>\n",
       "      <th>Lot Shape</th>\n",
       "      <th>Land Contour</th>\n",
       "      <th>...</th>\n",
       "      <th>Pool Area</th>\n",
       "      <th>Pool QC</th>\n",
       "      <th>Fence</th>\n",
       "      <th>Misc Feature</th>\n",
       "      <th>Misc Val</th>\n",
       "      <th>Mo Sold</th>\n",
       "      <th>Yr Sold</th>\n",
       "      <th>Sale Type</th>\n",
       "      <th>SalePrice</th>\n",
       "      <th>square_feet</th>\n",
       "    </tr>\n",
       "  </thead>\n",
       "  <tbody>\n",
       "    <tr>\n",
       "      <th>0</th>\n",
       "      <td>109</td>\n",
       "      <td>533352170</td>\n",
       "      <td>60</td>\n",
       "      <td>RL</td>\n",
       "      <td>NaN</td>\n",
       "      <td>13517</td>\n",
       "      <td>Pave</td>\n",
       "      <td>NaN</td>\n",
       "      <td>IR1</td>\n",
       "      <td>Lvl</td>\n",
       "      <td>...</td>\n",
       "      <td>0</td>\n",
       "      <td>NaN</td>\n",
       "      <td>NaN</td>\n",
       "      <td>NaN</td>\n",
       "      <td>0</td>\n",
       "      <td>3</td>\n",
       "      <td>2010</td>\n",
       "      <td>WD</td>\n",
       "      <td>130500</td>\n",
       "      <td>1479</td>\n",
       "    </tr>\n",
       "    <tr>\n",
       "      <th>1</th>\n",
       "      <td>544</td>\n",
       "      <td>531379050</td>\n",
       "      <td>60</td>\n",
       "      <td>RL</td>\n",
       "      <td>43.0</td>\n",
       "      <td>11492</td>\n",
       "      <td>Pave</td>\n",
       "      <td>NaN</td>\n",
       "      <td>IR1</td>\n",
       "      <td>Lvl</td>\n",
       "      <td>...</td>\n",
       "      <td>0</td>\n",
       "      <td>NaN</td>\n",
       "      <td>NaN</td>\n",
       "      <td>NaN</td>\n",
       "      <td>0</td>\n",
       "      <td>4</td>\n",
       "      <td>2009</td>\n",
       "      <td>WD</td>\n",
       "      <td>220000</td>\n",
       "      <td>2122</td>\n",
       "    </tr>\n",
       "    <tr>\n",
       "      <th>2</th>\n",
       "      <td>153</td>\n",
       "      <td>535304180</td>\n",
       "      <td>20</td>\n",
       "      <td>RL</td>\n",
       "      <td>68.0</td>\n",
       "      <td>7922</td>\n",
       "      <td>Pave</td>\n",
       "      <td>NaN</td>\n",
       "      <td>Reg</td>\n",
       "      <td>Lvl</td>\n",
       "      <td>...</td>\n",
       "      <td>0</td>\n",
       "      <td>NaN</td>\n",
       "      <td>NaN</td>\n",
       "      <td>NaN</td>\n",
       "      <td>0</td>\n",
       "      <td>1</td>\n",
       "      <td>2010</td>\n",
       "      <td>WD</td>\n",
       "      <td>109000</td>\n",
       "      <td>1057</td>\n",
       "    </tr>\n",
       "    <tr>\n",
       "      <th>3</th>\n",
       "      <td>318</td>\n",
       "      <td>916386060</td>\n",
       "      <td>60</td>\n",
       "      <td>RL</td>\n",
       "      <td>73.0</td>\n",
       "      <td>9802</td>\n",
       "      <td>Pave</td>\n",
       "      <td>NaN</td>\n",
       "      <td>Reg</td>\n",
       "      <td>Lvl</td>\n",
       "      <td>...</td>\n",
       "      <td>0</td>\n",
       "      <td>NaN</td>\n",
       "      <td>NaN</td>\n",
       "      <td>NaN</td>\n",
       "      <td>0</td>\n",
       "      <td>4</td>\n",
       "      <td>2010</td>\n",
       "      <td>WD</td>\n",
       "      <td>174000</td>\n",
       "      <td>1444</td>\n",
       "    </tr>\n",
       "    <tr>\n",
       "      <th>4</th>\n",
       "      <td>255</td>\n",
       "      <td>906425045</td>\n",
       "      <td>50</td>\n",
       "      <td>RL</td>\n",
       "      <td>82.0</td>\n",
       "      <td>14235</td>\n",
       "      <td>Pave</td>\n",
       "      <td>NaN</td>\n",
       "      <td>IR1</td>\n",
       "      <td>Lvl</td>\n",
       "      <td>...</td>\n",
       "      <td>0</td>\n",
       "      <td>NaN</td>\n",
       "      <td>NaN</td>\n",
       "      <td>NaN</td>\n",
       "      <td>0</td>\n",
       "      <td>3</td>\n",
       "      <td>2010</td>\n",
       "      <td>WD</td>\n",
       "      <td>138500</td>\n",
       "      <td>1445</td>\n",
       "    </tr>\n",
       "    <tr>\n",
       "      <th>...</th>\n",
       "      <td>...</td>\n",
       "      <td>...</td>\n",
       "      <td>...</td>\n",
       "      <td>...</td>\n",
       "      <td>...</td>\n",
       "      <td>...</td>\n",
       "      <td>...</td>\n",
       "      <td>...</td>\n",
       "      <td>...</td>\n",
       "      <td>...</td>\n",
       "      <td>...</td>\n",
       "      <td>...</td>\n",
       "      <td>...</td>\n",
       "      <td>...</td>\n",
       "      <td>...</td>\n",
       "      <td>...</td>\n",
       "      <td>...</td>\n",
       "      <td>...</td>\n",
       "      <td>...</td>\n",
       "      <td>...</td>\n",
       "      <td>...</td>\n",
       "    </tr>\n",
       "    <tr>\n",
       "      <th>2046</th>\n",
       "      <td>1587</td>\n",
       "      <td>921126030</td>\n",
       "      <td>20</td>\n",
       "      <td>RL</td>\n",
       "      <td>79.0</td>\n",
       "      <td>11449</td>\n",
       "      <td>Pave</td>\n",
       "      <td>NaN</td>\n",
       "      <td>IR1</td>\n",
       "      <td>HLS</td>\n",
       "      <td>...</td>\n",
       "      <td>0</td>\n",
       "      <td>NaN</td>\n",
       "      <td>NaN</td>\n",
       "      <td>NaN</td>\n",
       "      <td>0</td>\n",
       "      <td>1</td>\n",
       "      <td>2008</td>\n",
       "      <td>WD</td>\n",
       "      <td>298751</td>\n",
       "      <td>1728</td>\n",
       "    </tr>\n",
       "    <tr>\n",
       "      <th>2047</th>\n",
       "      <td>785</td>\n",
       "      <td>905377130</td>\n",
       "      <td>30</td>\n",
       "      <td>RL</td>\n",
       "      <td>NaN</td>\n",
       "      <td>12342</td>\n",
       "      <td>Pave</td>\n",
       "      <td>NaN</td>\n",
       "      <td>IR1</td>\n",
       "      <td>Lvl</td>\n",
       "      <td>...</td>\n",
       "      <td>0</td>\n",
       "      <td>NaN</td>\n",
       "      <td>NaN</td>\n",
       "      <td>NaN</td>\n",
       "      <td>0</td>\n",
       "      <td>3</td>\n",
       "      <td>2009</td>\n",
       "      <td>WD</td>\n",
       "      <td>82500</td>\n",
       "      <td>861</td>\n",
       "    </tr>\n",
       "    <tr>\n",
       "      <th>2048</th>\n",
       "      <td>916</td>\n",
       "      <td>909253010</td>\n",
       "      <td>50</td>\n",
       "      <td>RL</td>\n",
       "      <td>57.0</td>\n",
       "      <td>7558</td>\n",
       "      <td>Pave</td>\n",
       "      <td>NaN</td>\n",
       "      <td>Reg</td>\n",
       "      <td>Bnk</td>\n",
       "      <td>...</td>\n",
       "      <td>0</td>\n",
       "      <td>NaN</td>\n",
       "      <td>NaN</td>\n",
       "      <td>NaN</td>\n",
       "      <td>0</td>\n",
       "      <td>3</td>\n",
       "      <td>2009</td>\n",
       "      <td>WD</td>\n",
       "      <td>177000</td>\n",
       "      <td>1913</td>\n",
       "    </tr>\n",
       "    <tr>\n",
       "      <th>2049</th>\n",
       "      <td>639</td>\n",
       "      <td>535179160</td>\n",
       "      <td>20</td>\n",
       "      <td>RL</td>\n",
       "      <td>80.0</td>\n",
       "      <td>10400</td>\n",
       "      <td>Pave</td>\n",
       "      <td>NaN</td>\n",
       "      <td>Reg</td>\n",
       "      <td>Lvl</td>\n",
       "      <td>...</td>\n",
       "      <td>0</td>\n",
       "      <td>NaN</td>\n",
       "      <td>NaN</td>\n",
       "      <td>NaN</td>\n",
       "      <td>0</td>\n",
       "      <td>11</td>\n",
       "      <td>2009</td>\n",
       "      <td>WD</td>\n",
       "      <td>144000</td>\n",
       "      <td>1200</td>\n",
       "    </tr>\n",
       "    <tr>\n",
       "      <th>2050</th>\n",
       "      <td>10</td>\n",
       "      <td>527162130</td>\n",
       "      <td>60</td>\n",
       "      <td>RL</td>\n",
       "      <td>60.0</td>\n",
       "      <td>7500</td>\n",
       "      <td>Pave</td>\n",
       "      <td>NaN</td>\n",
       "      <td>Reg</td>\n",
       "      <td>Lvl</td>\n",
       "      <td>...</td>\n",
       "      <td>0</td>\n",
       "      <td>NaN</td>\n",
       "      <td>NaN</td>\n",
       "      <td>NaN</td>\n",
       "      <td>0</td>\n",
       "      <td>6</td>\n",
       "      <td>2010</td>\n",
       "      <td>WD</td>\n",
       "      <td>189000</td>\n",
       "      <td>1804</td>\n",
       "    </tr>\n",
       "  </tbody>\n",
       "</table>\n",
       "<p>2051 rows × 82 columns</p>\n",
       "</div>"
      ],
      "text/plain": [
       "        Id        PID  MS SubClass MS Zoning  Lot Frontage  Lot Area Street  \\\n",
       "0      109  533352170           60        RL           NaN     13517   Pave   \n",
       "1      544  531379050           60        RL          43.0     11492   Pave   \n",
       "2      153  535304180           20        RL          68.0      7922   Pave   \n",
       "3      318  916386060           60        RL          73.0      9802   Pave   \n",
       "4      255  906425045           50        RL          82.0     14235   Pave   \n",
       "...    ...        ...          ...       ...           ...       ...    ...   \n",
       "2046  1587  921126030           20        RL          79.0     11449   Pave   \n",
       "2047   785  905377130           30        RL           NaN     12342   Pave   \n",
       "2048   916  909253010           50        RL          57.0      7558   Pave   \n",
       "2049   639  535179160           20        RL          80.0     10400   Pave   \n",
       "2050    10  527162130           60        RL          60.0      7500   Pave   \n",
       "\n",
       "     Alley Lot Shape Land Contour  ... Pool Area Pool QC Fence Misc Feature  \\\n",
       "0      NaN       IR1          Lvl  ...         0     NaN   NaN          NaN   \n",
       "1      NaN       IR1          Lvl  ...         0     NaN   NaN          NaN   \n",
       "2      NaN       Reg          Lvl  ...         0     NaN   NaN          NaN   \n",
       "3      NaN       Reg          Lvl  ...         0     NaN   NaN          NaN   \n",
       "4      NaN       IR1          Lvl  ...         0     NaN   NaN          NaN   \n",
       "...    ...       ...          ...  ...       ...     ...   ...          ...   \n",
       "2046   NaN       IR1          HLS  ...         0     NaN   NaN          NaN   \n",
       "2047   NaN       IR1          Lvl  ...         0     NaN   NaN          NaN   \n",
       "2048   NaN       Reg          Bnk  ...         0     NaN   NaN          NaN   \n",
       "2049   NaN       Reg          Lvl  ...         0     NaN   NaN          NaN   \n",
       "2050   NaN       Reg          Lvl  ...         0     NaN   NaN          NaN   \n",
       "\n",
       "     Misc Val Mo Sold Yr Sold Sale Type  SalePrice  square_feet  \n",
       "0           0       3    2010       WD      130500         1479  \n",
       "1           0       4    2009       WD      220000         2122  \n",
       "2           0       1    2010       WD      109000         1057  \n",
       "3           0       4    2010       WD      174000         1444  \n",
       "4           0       3    2010       WD      138500         1445  \n",
       "...       ...     ...     ...       ...        ...          ...  \n",
       "2046        0       1    2008       WD      298751         1728  \n",
       "2047        0       3    2009       WD       82500          861  \n",
       "2048        0       3    2009       WD      177000         1913  \n",
       "2049        0      11    2009       WD      144000         1200  \n",
       "2050        0       6    2010       WD      189000         1804  \n",
       "\n",
       "[2051 rows x 82 columns]"
      ]
     },
     "execution_count": 98,
     "metadata": {},
     "output_type": "execute_result"
    }
   ],
   "source": [
    "dftrain"
   ]
  },
  {
   "cell_type": "code",
   "execution_count": 7,
   "id": "c42b6ced",
   "metadata": {},
   "outputs": [
    {
     "data": {
      "text/html": [
       "<div>\n",
       "<style scoped>\n",
       "    .dataframe tbody tr th:only-of-type {\n",
       "        vertical-align: middle;\n",
       "    }\n",
       "\n",
       "    .dataframe tbody tr th {\n",
       "        vertical-align: top;\n",
       "    }\n",
       "\n",
       "    .dataframe thead th {\n",
       "        text-align: right;\n",
       "    }\n",
       "</style>\n",
       "<table border=\"1\" class=\"dataframe\">\n",
       "  <thead>\n",
       "    <tr style=\"text-align: right;\">\n",
       "      <th></th>\n",
       "      <th>Id</th>\n",
       "      <th>PID</th>\n",
       "      <th>MS SubClass</th>\n",
       "      <th>Lot Frontage</th>\n",
       "      <th>Lot Area</th>\n",
       "      <th>Overall Qual</th>\n",
       "      <th>Overall Cond</th>\n",
       "      <th>Year Built</th>\n",
       "      <th>Year Remod/Add</th>\n",
       "      <th>Mas Vnr Area</th>\n",
       "      <th>...</th>\n",
       "      <th>Wood Deck SF</th>\n",
       "      <th>Open Porch SF</th>\n",
       "      <th>Enclosed Porch</th>\n",
       "      <th>3Ssn Porch</th>\n",
       "      <th>Screen Porch</th>\n",
       "      <th>Pool Area</th>\n",
       "      <th>Misc Val</th>\n",
       "      <th>Mo Sold</th>\n",
       "      <th>Yr Sold</th>\n",
       "      <th>SalePrice</th>\n",
       "    </tr>\n",
       "  </thead>\n",
       "  <tbody>\n",
       "    <tr>\n",
       "      <th>count</th>\n",
       "      <td>2051.000000</td>\n",
       "      <td>2.051000e+03</td>\n",
       "      <td>2051.000000</td>\n",
       "      <td>1721.000000</td>\n",
       "      <td>2051.000000</td>\n",
       "      <td>2051.000000</td>\n",
       "      <td>2051.000000</td>\n",
       "      <td>2051.000000</td>\n",
       "      <td>2051.000000</td>\n",
       "      <td>2029.000000</td>\n",
       "      <td>...</td>\n",
       "      <td>2051.000000</td>\n",
       "      <td>2051.000000</td>\n",
       "      <td>2051.000000</td>\n",
       "      <td>2051.000000</td>\n",
       "      <td>2051.000000</td>\n",
       "      <td>2051.000000</td>\n",
       "      <td>2051.000000</td>\n",
       "      <td>2051.000000</td>\n",
       "      <td>2051.000000</td>\n",
       "      <td>2051.000000</td>\n",
       "    </tr>\n",
       "    <tr>\n",
       "      <th>mean</th>\n",
       "      <td>1474.033642</td>\n",
       "      <td>7.135900e+08</td>\n",
       "      <td>57.008776</td>\n",
       "      <td>69.055200</td>\n",
       "      <td>10065.208191</td>\n",
       "      <td>6.112140</td>\n",
       "      <td>5.562165</td>\n",
       "      <td>1971.708922</td>\n",
       "      <td>1984.190151</td>\n",
       "      <td>99.695909</td>\n",
       "      <td>...</td>\n",
       "      <td>93.833740</td>\n",
       "      <td>47.556802</td>\n",
       "      <td>22.571916</td>\n",
       "      <td>2.591419</td>\n",
       "      <td>16.511458</td>\n",
       "      <td>2.397855</td>\n",
       "      <td>51.574354</td>\n",
       "      <td>6.219893</td>\n",
       "      <td>2007.775719</td>\n",
       "      <td>181469.701609</td>\n",
       "    </tr>\n",
       "    <tr>\n",
       "      <th>std</th>\n",
       "      <td>843.980841</td>\n",
       "      <td>1.886918e+08</td>\n",
       "      <td>42.824223</td>\n",
       "      <td>23.260653</td>\n",
       "      <td>6742.488909</td>\n",
       "      <td>1.426271</td>\n",
       "      <td>1.104497</td>\n",
       "      <td>30.177889</td>\n",
       "      <td>21.036250</td>\n",
       "      <td>174.963129</td>\n",
       "      <td>...</td>\n",
       "      <td>128.549416</td>\n",
       "      <td>66.747241</td>\n",
       "      <td>59.845110</td>\n",
       "      <td>25.229615</td>\n",
       "      <td>57.374204</td>\n",
       "      <td>37.782570</td>\n",
       "      <td>573.393985</td>\n",
       "      <td>2.744736</td>\n",
       "      <td>1.312014</td>\n",
       "      <td>79258.659352</td>\n",
       "    </tr>\n",
       "    <tr>\n",
       "      <th>min</th>\n",
       "      <td>1.000000</td>\n",
       "      <td>5.263011e+08</td>\n",
       "      <td>20.000000</td>\n",
       "      <td>21.000000</td>\n",
       "      <td>1300.000000</td>\n",
       "      <td>1.000000</td>\n",
       "      <td>1.000000</td>\n",
       "      <td>1872.000000</td>\n",
       "      <td>1950.000000</td>\n",
       "      <td>0.000000</td>\n",
       "      <td>...</td>\n",
       "      <td>0.000000</td>\n",
       "      <td>0.000000</td>\n",
       "      <td>0.000000</td>\n",
       "      <td>0.000000</td>\n",
       "      <td>0.000000</td>\n",
       "      <td>0.000000</td>\n",
       "      <td>0.000000</td>\n",
       "      <td>1.000000</td>\n",
       "      <td>2006.000000</td>\n",
       "      <td>12789.000000</td>\n",
       "    </tr>\n",
       "    <tr>\n",
       "      <th>25%</th>\n",
       "      <td>753.500000</td>\n",
       "      <td>5.284581e+08</td>\n",
       "      <td>20.000000</td>\n",
       "      <td>58.000000</td>\n",
       "      <td>7500.000000</td>\n",
       "      <td>5.000000</td>\n",
       "      <td>5.000000</td>\n",
       "      <td>1953.500000</td>\n",
       "      <td>1964.500000</td>\n",
       "      <td>0.000000</td>\n",
       "      <td>...</td>\n",
       "      <td>0.000000</td>\n",
       "      <td>0.000000</td>\n",
       "      <td>0.000000</td>\n",
       "      <td>0.000000</td>\n",
       "      <td>0.000000</td>\n",
       "      <td>0.000000</td>\n",
       "      <td>0.000000</td>\n",
       "      <td>4.000000</td>\n",
       "      <td>2007.000000</td>\n",
       "      <td>129825.000000</td>\n",
       "    </tr>\n",
       "    <tr>\n",
       "      <th>50%</th>\n",
       "      <td>1486.000000</td>\n",
       "      <td>5.354532e+08</td>\n",
       "      <td>50.000000</td>\n",
       "      <td>68.000000</td>\n",
       "      <td>9430.000000</td>\n",
       "      <td>6.000000</td>\n",
       "      <td>5.000000</td>\n",
       "      <td>1974.000000</td>\n",
       "      <td>1993.000000</td>\n",
       "      <td>0.000000</td>\n",
       "      <td>...</td>\n",
       "      <td>0.000000</td>\n",
       "      <td>27.000000</td>\n",
       "      <td>0.000000</td>\n",
       "      <td>0.000000</td>\n",
       "      <td>0.000000</td>\n",
       "      <td>0.000000</td>\n",
       "      <td>0.000000</td>\n",
       "      <td>6.000000</td>\n",
       "      <td>2008.000000</td>\n",
       "      <td>162500.000000</td>\n",
       "    </tr>\n",
       "    <tr>\n",
       "      <th>75%</th>\n",
       "      <td>2198.000000</td>\n",
       "      <td>9.071801e+08</td>\n",
       "      <td>70.000000</td>\n",
       "      <td>80.000000</td>\n",
       "      <td>11513.500000</td>\n",
       "      <td>7.000000</td>\n",
       "      <td>6.000000</td>\n",
       "      <td>2001.000000</td>\n",
       "      <td>2004.000000</td>\n",
       "      <td>161.000000</td>\n",
       "      <td>...</td>\n",
       "      <td>168.000000</td>\n",
       "      <td>70.000000</td>\n",
       "      <td>0.000000</td>\n",
       "      <td>0.000000</td>\n",
       "      <td>0.000000</td>\n",
       "      <td>0.000000</td>\n",
       "      <td>0.000000</td>\n",
       "      <td>8.000000</td>\n",
       "      <td>2009.000000</td>\n",
       "      <td>214000.000000</td>\n",
       "    </tr>\n",
       "    <tr>\n",
       "      <th>max</th>\n",
       "      <td>2930.000000</td>\n",
       "      <td>9.241520e+08</td>\n",
       "      <td>190.000000</td>\n",
       "      <td>313.000000</td>\n",
       "      <td>159000.000000</td>\n",
       "      <td>10.000000</td>\n",
       "      <td>9.000000</td>\n",
       "      <td>2010.000000</td>\n",
       "      <td>2010.000000</td>\n",
       "      <td>1600.000000</td>\n",
       "      <td>...</td>\n",
       "      <td>1424.000000</td>\n",
       "      <td>547.000000</td>\n",
       "      <td>432.000000</td>\n",
       "      <td>508.000000</td>\n",
       "      <td>490.000000</td>\n",
       "      <td>800.000000</td>\n",
       "      <td>17000.000000</td>\n",
       "      <td>12.000000</td>\n",
       "      <td>2010.000000</td>\n",
       "      <td>611657.000000</td>\n",
       "    </tr>\n",
       "  </tbody>\n",
       "</table>\n",
       "<p>8 rows × 39 columns</p>\n",
       "</div>"
      ],
      "text/plain": [
       "                Id           PID  MS SubClass  Lot Frontage       Lot Area  \\\n",
       "count  2051.000000  2.051000e+03  2051.000000   1721.000000    2051.000000   \n",
       "mean   1474.033642  7.135900e+08    57.008776     69.055200   10065.208191   \n",
       "std     843.980841  1.886918e+08    42.824223     23.260653    6742.488909   \n",
       "min       1.000000  5.263011e+08    20.000000     21.000000    1300.000000   \n",
       "25%     753.500000  5.284581e+08    20.000000     58.000000    7500.000000   \n",
       "50%    1486.000000  5.354532e+08    50.000000     68.000000    9430.000000   \n",
       "75%    2198.000000  9.071801e+08    70.000000     80.000000   11513.500000   \n",
       "max    2930.000000  9.241520e+08   190.000000    313.000000  159000.000000   \n",
       "\n",
       "       Overall Qual  Overall Cond   Year Built  Year Remod/Add  Mas Vnr Area  \\\n",
       "count   2051.000000   2051.000000  2051.000000     2051.000000   2029.000000   \n",
       "mean       6.112140      5.562165  1971.708922     1984.190151     99.695909   \n",
       "std        1.426271      1.104497    30.177889       21.036250    174.963129   \n",
       "min        1.000000      1.000000  1872.000000     1950.000000      0.000000   \n",
       "25%        5.000000      5.000000  1953.500000     1964.500000      0.000000   \n",
       "50%        6.000000      5.000000  1974.000000     1993.000000      0.000000   \n",
       "75%        7.000000      6.000000  2001.000000     2004.000000    161.000000   \n",
       "max       10.000000      9.000000  2010.000000     2010.000000   1600.000000   \n",
       "\n",
       "       ...  Wood Deck SF  Open Porch SF  Enclosed Porch   3Ssn Porch  \\\n",
       "count  ...   2051.000000    2051.000000     2051.000000  2051.000000   \n",
       "mean   ...     93.833740      47.556802       22.571916     2.591419   \n",
       "std    ...    128.549416      66.747241       59.845110    25.229615   \n",
       "min    ...      0.000000       0.000000        0.000000     0.000000   \n",
       "25%    ...      0.000000       0.000000        0.000000     0.000000   \n",
       "50%    ...      0.000000      27.000000        0.000000     0.000000   \n",
       "75%    ...    168.000000      70.000000        0.000000     0.000000   \n",
       "max    ...   1424.000000     547.000000      432.000000   508.000000   \n",
       "\n",
       "       Screen Porch    Pool Area      Misc Val      Mo Sold      Yr Sold  \\\n",
       "count   2051.000000  2051.000000   2051.000000  2051.000000  2051.000000   \n",
       "mean      16.511458     2.397855     51.574354     6.219893  2007.775719   \n",
       "std       57.374204    37.782570    573.393985     2.744736     1.312014   \n",
       "min        0.000000     0.000000      0.000000     1.000000  2006.000000   \n",
       "25%        0.000000     0.000000      0.000000     4.000000  2007.000000   \n",
       "50%        0.000000     0.000000      0.000000     6.000000  2008.000000   \n",
       "75%        0.000000     0.000000      0.000000     8.000000  2009.000000   \n",
       "max      490.000000   800.000000  17000.000000    12.000000  2010.000000   \n",
       "\n",
       "           SalePrice  \n",
       "count    2051.000000  \n",
       "mean   181469.701609  \n",
       "std     79258.659352  \n",
       "min     12789.000000  \n",
       "25%    129825.000000  \n",
       "50%    162500.000000  \n",
       "75%    214000.000000  \n",
       "max    611657.000000  \n",
       "\n",
       "[8 rows x 39 columns]"
      ]
     },
     "execution_count": 7,
     "metadata": {},
     "output_type": "execute_result"
    }
   ],
   "source": [
    "dftrain.describe()"
   ]
  },
  {
   "cell_type": "code",
   "execution_count": 8,
   "id": "19de5d10",
   "metadata": {},
   "outputs": [
    {
     "data": {
      "text/plain": [
       "Id                0\n",
       "PID               0\n",
       "MS SubClass       0\n",
       "MS Zoning         0\n",
       "Lot Frontage    330\n",
       "               ... \n",
       "Misc Val          0\n",
       "Mo Sold           0\n",
       "Yr Sold           0\n",
       "Sale Type         0\n",
       "SalePrice         0\n",
       "Length: 81, dtype: int64"
      ]
     },
     "execution_count": 8,
     "metadata": {},
     "output_type": "execute_result"
    }
   ],
   "source": [
    "# Check for nulls\n",
    "dftrain.isnull().sum()"
   ]
  },
  {
   "cell_type": "code",
   "execution_count": 30,
   "id": "0e95835f",
   "metadata": {},
   "outputs": [
    {
     "data": {
      "text/plain": [
       "Id                   int64\n",
       "2nd Flr SF           int64\n",
       "Low Qual Fin SF      int64\n",
       "Gr Liv Area          int64\n",
       "Full Bath            int64\n",
       "Half Bath            int64\n",
       "Bedroom AbvGr        int64\n",
       "Kitchen AbvGr        int64\n",
       "TotRms AbvGrd        int64\n",
       "1st Flr SF           int64\n",
       "Fireplaces           int64\n",
       "Open Porch SF        int64\n",
       "Enclosed Porch       int64\n",
       "3Ssn Porch           int64\n",
       "Screen Porch         int64\n",
       "Pool Area            int64\n",
       "Misc Val             int64\n",
       "Mo Sold              int64\n",
       "Yr Sold              int64\n",
       "Wood Deck SF         int64\n",
       "Year Remod/Add       int64\n",
       "SalePrice            int64\n",
       "Lot Area             int64\n",
       "PID                  int64\n",
       "MS SubClass          int64\n",
       "Overall Qual         int64\n",
       "Year Built           int64\n",
       "Overall Cond         int64\n",
       "Total Bsmt SF      float64\n",
       "BsmtFin SF 2       float64\n",
       "Garage Cars        float64\n",
       "BsmtFin SF 1       float64\n",
       "Bsmt Full Bath     float64\n",
       "Bsmt Unf SF        float64\n",
       "Lot Frontage       float64\n",
       "Garage Yr Blt      float64\n",
       "Mas Vnr Area       float64\n",
       "Bsmt Half Bath     float64\n",
       "Garage Area        float64\n",
       "Garage Finish       object\n",
       "Garage Type         object\n",
       "Fireplace Qu        object\n",
       "Roof Style          object\n",
       "Garage Cond         object\n",
       "Paved Drive         object\n",
       "Utilities           object\n",
       "Land Contour        object\n",
       "Lot Shape           object\n",
       "Alley               object\n",
       "Street              object\n",
       "Pool QC             object\n",
       "Fence               object\n",
       "Misc Feature        object\n",
       "MS Zoning           object\n",
       "Garage Qual         object\n",
       "Functional          object\n",
       "Condition 1         object\n",
       "Kitchen Qual        object\n",
       "Roof Matl           object\n",
       "Exterior 1st        object\n",
       "dtype: object"
      ]
     },
     "execution_count": 30,
     "metadata": {},
     "output_type": "execute_result"
    }
   ],
   "source": [
    "#ccheck Data types\n",
    "dftrain.dtypes.sort_values().head(28)"
   ]
  },
  {
   "cell_type": "code",
   "execution_count": null,
   "id": "d72177a1",
   "metadata": {},
   "outputs": [],
   "source": [
    "#81 total values--Exterior 1 is repeated because this was 22 and above is 60\n",
    "dftrain.dtypes.sort_values().tail(22)"
   ]
  },
  {
   "cell_type": "code",
   "execution_count": 105,
   "id": "845489eb",
   "metadata": {},
   "outputs": [
    {
     "name": "stdout",
     "output_type": "stream",
     "text": [
      "count    2051.000000\n",
      "mean     1474.033642\n",
      "std       843.980841\n",
      "min         1.000000\n",
      "25%       753.500000\n",
      "50%      1486.000000\n",
      "75%      2198.000000\n",
      "max      2930.000000\n",
      "Name: Id, dtype: float64\n",
      "0\n",
      "[109 544 153 ... 916 639  10]\n",
      "2049    1\n",
      "749     1\n",
      "2556    1\n",
      "507     1\n",
      "505     1\n",
      "       ..\n",
      "1068    1\n",
      "1066    1\n",
      "1062    1\n",
      "1060    1\n",
      "2047    1\n",
      "Name: Id, Length: 2051, dtype: int64\n",
      "count     878.000000\n",
      "mean     1444.749431\n",
      "std       850.838263\n",
      "min         2.000000\n",
      "25%       692.250000\n",
      "50%      1433.000000\n",
      "75%      2197.500000\n",
      "max      2928.000000\n",
      "Name: Id, dtype: float64\n",
      "0\n",
      "[2658 2718 2414 1989  625  333 1327  858   95 1568 2482 1364 2584  818\n",
      " 2673 2089 1297  790 2616  720  222  557 1148 2766  534 1452  630 2648\n",
      "  125 1904 1670  756  717 1032  852 1731 2639 2071 1267 1851  567 2439\n",
      " 1898  647 2256  979 1444 2485  157   88 2003  186 1425 2695  738  395\n",
      " 1353 1878  390 1456 1103 1387 2070 1199 2479  501 2362 1718 2188 1483\n",
      " 2557  437 2224 1628  397  587  971 2611 1887 2399 2148  304 1997 2817\n",
      " 1431  427  263  598 2895  687 1822 2191  179 1009 2010 1991 1411 1721\n",
      " 1144  593  575 1249 1604 1064 1923 1988 2325  114 2700  217  343  386\n",
      " 2005 2908 1814 2446  208 1679  822    6 1781 2397 2340 1618 2843 1061\n",
      " 2786 1935 1341  521 2136  996  227  135 1167  294 1776  540 1717 2303\n",
      "  116  127 1371 1014 1507  702  750  261 1559  577 2812 2080 1368 2376\n",
      "  659 1235  332 1917 2094 1460 1471 1509 1922  433  460 1116 1137   53\n",
      " 2354 1475 1761  842 2739 2509 1007 2610 1952 2719 2921 1966  292 1204\n",
      " 1829 2419  391  798  481  193  555  899 2357  328 1356 1154 1730 2249\n",
      " 1119 2856 1394 2587   61 2661 2711 1147  757 2623 2378 1413 1722 1112\n",
      " 1623 1201 1513  957 1171 1145 2726  703  760 1964 2512  159 1281  468\n",
      "  290  665 1463 1792  923  500 1408  331  170 2192 2571 2314 2647  422\n",
      " 2457 1838 2805 1645 1711 2825  322 2103  342  600  488 1725 2246 2847\n",
      "  806  530  963 2678  171 2401  805 2259 1748 1361 1677 1406 2322  688\n",
      "  143  804 1214 2828 1999 2467 2665 1538  398 2822 2157 1856 1269 2570\n",
      " 2320 1517 2304 1312 2012  506 2865 2367  554  238 1954 2488 2291 1969\n",
      " 2725 1482 2763  503 1584 1531 2210  459  556 1347 1290 1388 1571 2754\n",
      "  765 2494 2870    7 1114 2418  291   18   39 1001 2442  616 2680 1414\n",
      "  289   40  860  409  673 2427 2036 2564  642 1008 1908 2519 1369 2855\n",
      "  712 1943 1958  107 2295  704  676  259   93  106 2315 1050 1095 2709\n",
      "  758 1496 2370 2458 2733  161  726  845  947 2232 2563 2299  211  605\n",
      " 1478 2247 2274 2869  967 2656  667 1042 2023 2447 2055 2275 2204 1563\n",
      "  483  796 1526 2042  442 1693 1468 1430 2605 1529  335 1287   31 1785\n",
      "   82 2620  252  721 2165 2316  775 1558   17 1022  925  438 1270 1272\n",
      "  215  266 2402 1250 1984 1279  377 1252 2156  499 1374 2898  401 2721\n",
      " 2078 2589 1946 1334 2781  431  576 1474 2254 2155  885  643 1944  480\n",
      " 2845 2387 2407 2527 2514  629   80 1876 1546 2518 2347  783 1322  194\n",
      " 1770 2143 1229  511   46 1348 2465  387  873 1918 2764 2184  934 1920\n",
      " 2631 1768 2040 1749  834 1457   79 2302 1817 2755  359 2059 2092 2516\n",
      "  150 1656   83 2411  795 2312 2917 1624 2215 1211 1485 1024  570 2874\n",
      "  700 2756 2022  583 2392 2424  212  736 1610  890  467  578 1747 1149\n",
      " 2758  857 2219  733 2909 1798  235 2366 1027 1195 1303  148  608 2515\n",
      "  821 2500  745  741 1611 2532 1081 1692 2520  276 1992  663  418 1733\n",
      " 2359  253 1518 2035 2919 1540 2120 1674  256 2361  978 2280 2095 1709\n",
      " 2801 1246 2373 1055 2017 1099 1344  835 1117 2043 2085  410 2650 2867\n",
      " 1668 1161 2122 2539 1047 1445  541  569 1276  918  326 1936  895  257\n",
      " 1241 1545 1189  270 2066  693 1259 2916 2321 1977 1895 1240   85 1823\n",
      "  825  110  697 2297 1231 1355  968  584 1315 1606  206 1685 2016  869\n",
      " 2135 2346 2430 2198 2652   27  241  906 1506 2098 1435 2213 1274  743\n",
      " 1737 2797 2185   58  830  808  680 1153 1291 1818 2161 1883  350 2473\n",
      "  295  293  859  288 1578  102 2831 1030 2551 1286  958  776   72 2263\n",
      " 1866 2876 2146  103 1500  492  167 2597 2685 1035 1220 2602 2159  695\n",
      " 1109  640 1652 2090 1188 2345 1059 2751  128 1523 2925 2145 1121  566\n",
      "  565 1331 2928  156  797  327 2859 1453 1762 1868 1760 1113 1812  117\n",
      " 1142 2342  927 2478  655 2064  369 2239 2732 1653  959 2395 1412  271\n",
      " 1484 1497  552    2 1855    4 2292  134  646   42  532  713 2561 2360\n",
      " 1333 1407 2892  574 1227 2591 1476 1125 1446  408 1101 2251  373 2554\n",
      " 2382 1985  519 1093  864 2889 2308  986 1302  585 2708  147 1441  383\n",
      "  285  181  358  780  258 1865  692 2902  508 2638   36  611 2281 1678\n",
      " 1696 1557 2180 1726  951  267 2706 2221 1357 2901  347 2164 1586  360\n",
      " 1769 2617 1879  991 1535 1191 1579 1882 1510 2196 1845 2336  942  861\n",
      " 2555 1392 2099 1543  948 1239   22 2796 2747   92  210 1858 2228  447\n",
      "  827 1649  682 2698  494  214 2441 2679 1336  465 1524 2543  631 2452\n",
      "  228  126 1092 1122  932 1980 2171  551 2768 2056 1159 2645 1174 2266\n",
      " 2462 1219 2922  118  474 2576  872 1077 1536 1150 2341 1931 2785 2538\n",
      "  597  464  233 2169 2123 1867  137  515  933 2784  972  599 2614 2582\n",
      " 1409  175  352  976 2134  984 2396 1673  404  607  814  868 2271 1633\n",
      "  337 2765 1746  368 2806 1662 1234 1373 1672 1939]\n",
      "2       1\n",
      "1188    1\n",
      "1150    1\n",
      "1153    1\n",
      "1154    1\n",
      "       ..\n",
      "2571    1\n",
      "2576    1\n",
      "2370    1\n",
      "530     1\n",
      "359     1\n",
      "Name: Id, Length: 878, dtype: int64\n",
      "AxesSubplot(0.125,0.125;0.775x0.755)\n",
      "                 Id  SalePrice\n",
      "Id         1.000000  -0.051398\n",
      "SalePrice -0.051398   1.000000\n"
     ]
    },
    {
     "data": {
      "image/png": "[encoded data removed]",
      "text/plain": [
       "<Figure size 432x288 with 1 Axes>"
      ]
     },
     "metadata": {
      "needs_background": "light"
     },
     "output_type": "display_data"
    },
    {
     "data": {
      "image/png": "[encoded data removed]",
      "text/plain": [
       "<Figure size 180x180 with 1 Axes>"
      ]
     },
     "metadata": {
      "needs_background": "light"
     },
     "output_type": "display_data"
    }
   ],
   "source": [
    "#Going through each numeric variable\n",
    "#Id is parcel id number for people to take look at. No relevance to this project\n",
    "datacleaning('Id')             \n"
   ]
  },
  {
   "cell_type": "code",
   "execution_count": 106,
   "id": "30a81083",
   "metadata": {},
   "outputs": [
    {
     "name": "stdout",
     "output_type": "stream",
     "text": [
      "count    2051.000000\n",
      "mean      329.329108\n",
      "std       425.671046\n",
      "min         0.000000\n",
      "25%         0.000000\n",
      "50%         0.000000\n",
      "75%       692.500000\n",
      "max      1862.000000\n",
      "Name: 2nd Flr SF, dtype: float64\n",
      "0\n",
      "[ 754 1209    0  700  614 1040  504  728  645  720  783 1044  673  957\n",
      "  252  725  550  745  890  620  651  862  756  653 1392  546  689  600\n",
      " 1106 1426  780  531  732  739 1169  665  616  540  786 1368 1157  709\n",
      "  690  445  836  564 1345  707  650  712  676  601  240 1862  881  408\n",
      " 1427  857 1074  876 1045  813  927  576  539  586  624 1182  702 1093\n",
      "  884  743  941 1312 1384 1296  492  462  981 1277 1254  272  750  608\n",
      "  656 1370  595  797  960  549  703 1250  453  561  685  636  872  886\n",
      "  840  829  670  795  505  698  537  864  804  704  412  924  896  376\n",
      "  438 1371 1089  755  589 1158  980 1038  517  925  602  887  741  348\n",
      "  390 1036  672  475  464 1194  530  701  929  584  465  319  563  695\n",
      "  668  582  545 1005  757  585  684  787  888  336  551  903 1198  524\n",
      "  482  869  738  596  727  493 1407  785  779 1340  351  525  861  794\n",
      " 1111  742 1134  245  832  880  772  848 1237  736  144  806  784 1007\n",
      " 1004  587  622  568  444  916  913  634  547 1129  642  448  384  208\n",
      "  371 1128  767  512  677  809  671  628  808  972  486 1101  788  838\n",
      "  312  910  844  648  956  825 1001  817  432  322 1377  841  917  679\n",
      "  220  833  581  775 1319  662  863 1221  527  360  467 1037  658  846\n",
      " 1122  851  868  878  752  793  495  902  644 1259  660 1177  973  472\n",
      " 1032  430  807  567  611  778  831  534 1589  875  455 1234 1440  528\n",
      "  900  297  466  717  866  915 1017  571  765 1288  468 1323  885  476\n",
      "  711 1721  536  213  688 1215  858  950  612  834  912  450 1208  796\n",
      "  729 1066  605 1357 1242  588 1523  928  341 1518  125  623  428  630\n",
      " 1133  332 1168  629 1342 1151  325  304  548  590 1332 1196  691 1230\n",
      "  734 1142 1285 1306  812 1104  441 1519  678  606 1274  753  770  396\n",
      "  718 1054  664 1103 1139 1126  520  626 1120  439 1304  898  936  908\n",
      "  977  940  828  871  762  424 1420  860  686 1232  640  518  990  978\n",
      " 1092  744  735  436  897  663 1349  918  423  580  923 1238 1061  811\n",
      " 1063  378 1171  316 1185  747 1540  425 1330 1414  680  975 1028  370\n",
      " 1257  998  843  976  583  760  914 1029  954  533  516  477  716  358\n",
      "  498  541  473 1320  420  500  932 1203  984  971  368 1619  800  639\n",
      " 1097 1042  615 1070 1098  592  870 1369  299 1347  649  892  790  560\n",
      "  766  842  748  573 1567  356 1174  899  502  988  570  510 1140  768\n",
      " 1325  694 1276 1020 1152  631 1309 1295  850  574 1611  895 1240  328\n",
      " 1088  818  488  625 1246  526  882  556 1315  761 1060  874  893  764\n",
      " 1131 1114  591  454 1836  726  400  521 1275  494 1160 1818 1100 1248\n",
      "  985  883  845 1200 1162  730  659 1099  827 1335  983 1096  855  776]\n",
      "0       1191\n",
      "728       15\n",
      "504       14\n",
      "546       12\n",
      "600       10\n",
      "        ... \n",
      "1098       1\n",
      "1096       1\n",
      "1092       1\n",
      "1088       1\n",
      "1721       1\n",
      "Name: 2nd Flr SF, Length: 504, dtype: int64\n",
      "count     878.000000\n",
      "mean      348.398633\n",
      "std       432.985566\n",
      "min         0.000000\n",
      "25%         0.000000\n",
      "50%         0.000000\n",
      "75%       720.000000\n",
      "max      2065.000000\n",
      "Name: 2nd Flr SF, dtype: float64\n",
      "0\n",
      "[1020    0  832  546  840 1619  810  552  826  457  661  228 1320  850\n",
      "  510  612  930  866  336 1111  557  320  687  873  825  793 1012  670\n",
      "  380  671  676 1072  550  424  728  855  804  604  816 1796  780  672\n",
      "  678  795  917  651  695  720  792  908  713  208 1000  703  432  860\n",
      "  638  110 1215 1208 1358 2065  623  809  649  772  880  754  560  683\n",
      "  701  919  473  580  830  878  686  601  648 1039  767  933  343  893\n",
      "  682  739  813  876 1141  995 1067 1360  807  978 1140 1150  403 1182\n",
      "  434  348  800  630  768 1134  769 1031  798  764 1479  900  308  349\n",
      "  871 1175  504  368  812  967  784  979  167 1037 1321 1788 1286  224\n",
      "  240  406  665  976  704  858  992  901  544  646  823  955  702  886\n",
      "  714 1080  741  520  620  499  942 1296 1315  514  925 1402  975  375\n",
      "  567  611  709  523  744  888  846  564  870 1336  551 1216 1778  554\n",
      "  854  748  218 1218  708  730  330  363 1015  918  752  797  839  988\n",
      "  668  688 1872 1112  815 1121 1243  862 1254  994 1164  983 1142  180\n",
      "  464  742 1178  558  600  588 1116  472 1048  595  943 1332  989  378\n",
      " 1017  966  384  697  625 1087  548  182  512  496  517  782  656  412\n",
      "  926  436  468 1362  501 1124  738 1075  640  756  581  885  783  821\n",
      " 1081  972  904  717  898  568  532  960 1629  594  610  715  896  814\n",
      "  716 1051 1281  939 1053  566  660  185  790 1008  442  674 1054 1405\n",
      "  596  456  516  631 1098  845 1240  644 1189  959  867  530  192  662\n",
      "  920  511  765  828  884]\n",
      "0       487\n",
      "546      11\n",
      "840       5\n",
      "720       5\n",
      "672       4\n",
      "       ... \n",
      "660       1\n",
      "661       1\n",
      "662       1\n",
      "665       1\n",
      "1020      1\n",
      "Name: 2nd Flr SF, Length: 285, dtype: int64\n",
      "AxesSubplot(0.125,0.125;0.775x0.755)\n",
      "            2nd Flr SF  SalePrice\n",
      "2nd Flr SF    1.000000   0.248452\n",
      "SalePrice     0.248452   1.000000\n"
     ]
    },
    {
     "data": {
      "image/png": "[encoded data removed]",
      "text/plain": [
       "<Figure size 432x288 with 1 Axes>"
      ]
     },
     "metadata": {
      "needs_background": "light"
     },
     "output_type": "display_data"
    },
    {
     "data": {
      "image/png": "[encoded data removed]",
      "text/plain": [
       "<Figure size 180x180 with 1 Axes>"
      ]
     },
     "metadata": {
      "needs_background": "light"
     },
     "output_type": "display_data"
    }
   ],
   "source": [
    "#no nulls--there are 0s-probably ranches. This was combined with 1st floor sq feet /\n",
    "#for 'square_feet'\n",
    "datacleaning('2nd Flr SF')"
   ]
  },
  {
   "cell_type": "code",
   "execution_count": 107,
   "id": "a9ee7fcd",
   "metadata": {},
   "outputs": [
    {
     "name": "stdout",
     "output_type": "stream",
     "text": [
      "count    2051.000000\n",
      "mean     1164.488055\n",
      "std       396.446923\n",
      "min       334.000000\n",
      "25%       879.500000\n",
      "50%      1093.000000\n",
      "75%      1405.000000\n",
      "max      5095.000000\n",
      "Name: 1st Flr SF, dtype: float64\n",
      "0\n",
      "[ 725  913 1057  744  831 1888 1072 1188  924 1040  483 1208 1288  962\n",
      " 1361 1430  624 1121 1285  764  894 1659 1209 1187 1056 1453 1265 1034\n",
      "  672 2524  792 1494  948 1718 1142  925 1844 1242  990 1256 2076 1110\n",
      " 1050  983  984  851 1063  768 1328 1392  546 1575  663  600  936  916\n",
      " 1164 1184 1483  960 1382 1120  567  976 1802 1506 1508 2032 1194  970\n",
      " 1616  872  520 1105  616 2234  876  864 1189 1666 1200  928 1336 1427\n",
      " 1212  754 1535 1152 1151 1138 1074 1561 1358 1884  605 1671  797  804\n",
      " 1193  673 1664 1390  868 1422 1128 1116  660 1707 1466 1638 1721  996\n",
      " 1202  988 1028  720 1599  707  959  813 1092 1055  676  855 1719  780\n",
      " 1554 1528 1008 1172 1418  495  985  888 1992 1478  950  912 1326 1204\n",
      "  798 1236 1416  946 1088  816  536  572 1126  992  752 1218 1601 1313\n",
      "  807 1325  733  884 1266 2129 1464 1216 1264 1414 1743 1567 1370 1338\n",
      " 1590 1450  846  728 2392  530 1026 1108  918  548 1557 1287 1004 1162\n",
      " 1436 1196 1269 1031  448 1505  954  750 2079 1252  774 1114 1224 1134\n",
      "  760 1497 1702 1509  961 1240 1166 1652 1182 1122 1488 1624 1362 1068\n",
      " 1625 1064  907  640 1251  453 1095 1124 1014 1306 1160  930  708 1059\n",
      " 1005 1804  833 1586  914 1555  716  882 1167 1800  812 1522 2036 1595\n",
      "  891 1344  832 1222  848 1291  526  986 1239  860 1329  879  841  900\n",
      " 1360 1786 1097 1112 1696 1752 1102  854  847 1402  887 1051  755 1656\n",
      "  958 3228  661 1140 1632 1445 1022  861 1622  955  844  811 1795  704\n",
      "  972 1828 1013  786 2113 1387 1722  840 1542  910  824 1246 1144 2223\n",
      "  581  932  929 1686 1614 1740 1318 1117 1627  697  769 1687  819  649\n",
      "  773  952 1113  778  944 1698 1262  902  738 1384 1158 1646  981 1565\n",
      "  880 1060 1096 1223 1337  551  438 1033 1129 1689 1424 1025 1442 1454\n",
      " 1070  898 1460 1174  751 1058 1302 1502 1133 1146 1444  799 1600 1230\n",
      "  765  835  945  886 1513 1107  827  742 1792 1515  808 1181 1987  647\n",
      "  969 1736  800 1589 1479  784 1476  743 1576  943 1377 1062 1824 1469\n",
      " 1007  825 1342 1868  741 1728 1678 1296 1587 1080  866 1001 1220 1310\n",
      " 1156 1620  896  747 1538 1143 1035 1324  904 1276 1104 1165 1320 1277\n",
      " 1299 1630 1768  810  967  883  874 1836 1241 1334 1429 1566 1316 1709\n",
      " 1254 1211 1353 1532 1536 1811 1071 1073 1020  964 1009 3820  703 1782\n",
      " 1922 2492  991 2064  836 1766 1137 1364  920  717 1512 1434 1090 1037\n",
      " 1389  694 1118 1032 1148 1366 1195  686 1258 1170  714 1154  909 2084\n",
      "  951 2490 1141  732  820  636  576 1580 1558 1339  372 1125  899  828\n",
      " 1694 1065 1523 1651 1041 1604 1500 1594 1175  664  630 1247 1738 1405\n",
      " 1228 1153 1383 1403 1712 1560 1083 1675 1491 1710 1253 1217 2151 1131\n",
      "  830  772 1553  905 1039 1520 1704 1149 1178 2497 1432 1680  869  885\n",
      "  525  715 2290  941  940 1546 1346 1012 1504 1700  756  759 1673 1690\n",
      " 1054  935 1180  815 1486 1734 1531 1363 1866 1077 1550 1248 1245 1052\n",
      " 1829 1480 1501 1440 1525 1190  878 1902 1658 1373 1091 1081  999  853\n",
      "  729  757 1425  908 1150 1850 1537 1391 1433  845 2515 1602 1684 1496\n",
      "  997 1048 1283 2042 1203  953 1428 1093 1378 1357 2196  938 2726  939\n",
      "  789 1489 4692  612 1100 1019 1356  666  901 1584 1978 1606 1822 2259\n",
      "  915 1002 1290 2046 1548 1691 1838 1867 1301  923 1210 1701  922 1280\n",
      " 1368  753 1534  994 1699 1516 1588  829 1518 1778 1221  740  713 1411\n",
      "  875 1663 1375 2464 1569 1541  989 2048  957  793 1053 1742 1232 1950\n",
      " 1872 1168 1207 1644 1484 1226 1169 1564  665 1179 2633 1688 1341 1309\n",
      " 1634  980 1312 1419 1521 2014 1214 1629 1552  770  734 2276 1610 1409\n",
      " 2402 1426 1431  892 1779  788  873 1314 1294 1274 1641  617 1044 1027\n",
      " 1380 2158 1372  684 1295 1468 1069 1349 1578 1511 2696  628 1130 1098\n",
      " 1321 1260  926 1029 1788 1272 2898 2217  689 1964 1270  897  795 1490\n",
      " 1898 1801  494 1229 1082  858  498 1420 1335  966 1271 2000 1592 1593\n",
      " 1456 1042 1482 1404 1803 1079 1030 2069  806  895  849 1061 1621 1075\n",
      " 1225 1661 1024 1905 1101 1733 1568 2053  687 1347 1524 1282 1036  680\n",
      "  975 1760  968 1086 2122 1662 1010  334  796  822  993 1235 1205 1000\n",
      "  529  838 1612 1003 1640  889 1045 1452 1746 1976  561 1352 1626  480\n",
      " 1132 2365 1159  814 1016 1611 1437 1670 2140 1636 1842 1186 1127 1268\n",
      "  730 1458 1278  779 1648  782  735 1498 1293 2020 1900  977 1249 1495\n",
      " 1647  698 2121  492 1851 2452  763 1176 2136 1076 1099 2364  575 1078\n",
      " 1462 1423 1933 1465  662 1966 1395  502  942  790 1582 1650 1365 1657\n",
      "  956  608 1332 1298 1973 1238 1161 1573 1103 1006  871  818 1109  679\n",
      "  625  658 1400 1094 1038 1183 1660  933 1215 1448 1533 1787 1089 1720\n",
      "  949  856 1577  781 2034 5095 1682  626  702  801  963 1398  803 2073\n",
      " 1067 1559 1980 1470 1547 2200 1297 1319 1463 1959 1685  693  745 1713\n",
      " 1472 2338  877 1510 1407 1136  712  834  865  540 1367  867 1556 2156\n",
      "  859 1191 1304 1572 1932]\n",
      "864     31\n",
      "1040    22\n",
      "816     13\n",
      "912     13\n",
      "936     12\n",
      "        ..\n",
      "1740     1\n",
      "1738     1\n",
      "1736     1\n",
      "1722     1\n",
      "1987     1\n",
      "Name: 1st Flr SF, Length: 915, dtype: int64\n",
      "count     878.000000\n",
      "mean     1145.787016\n",
      "std       375.264111\n",
      "min       407.000000\n",
      "25%       864.000000\n",
      "50%      1063.000000\n",
      "75%      1358.000000\n",
      "max      2674.000000\n",
      "Name: 1st Flr SF, dtype: float64\n",
      "0\n",
      "[ 908 1967  664  968 1394  546 1093 1268  840 1279 1217 1040 1375 1168\n",
      " 1017 1340  884 1073 1773  916 1060  864 1617  988 1218 1281 1089 1054\n",
      "  442  858  848 1320 1178 1492  608 1147  998  910 1358  612  956 1327\n",
      " 1363 1501  798  920  965  936  912 1157 1615  803  822 1026 1133 1344\n",
      " 1193  992 2006 1140 1176  845  810 2063 1302  774  747 1508 1560  802\n",
      " 1050 1724 1771 1207  882 1780 1459  727  687  760  616 2042  876 1707\n",
      " 1064  999  796  827 1228  728  914 1509 1554 1694 1790  923 2470 1244\n",
      "  866  697 1287 1921 1832 1434 1058 1382 1494 1831 1032  630 1720  926\n",
      " 1966 1120 1714  794  954 1414 1008  565 1530 1025  943  720 1128  757\n",
      " 1225 1369 1114  816 1381 1078  756 1474  929  960 1048  689  432 1740\n",
      "  860 1088  900  792 1098 1055 1493  768 1056 2674 1456 1563 1145 1445\n",
      " 2411  990  520 1086 1085  691 1949 1242  894 1516  738 1350  698  806\n",
      " 1160  980  944  832  945  838  783  955 1021 1645 1226  934  741  855\n",
      "  621 1370  947  949 2036 1557  844 1830  707  892  713  983  684  856\n",
      "  846 1149  982 1273 1277 1518 1360 1794 2097 1352 1079 1284 1234 1164\n",
      " 2018 1651 1007 1869 1625 1192 1142 1412 1848 2279  744  672 1094  887\n",
      "  993 1314 1006 1072 1260  778 1968 1432  901  974  709  869  979 1170\n",
      "  483  784 1144  888 1286  925 1437 1440  819 1884 1619 1294 1152 1024\n",
      " 1278 1338 1578 1052  862 1856 1940 1682 1005  961 1544  958 1306  976\n",
      " 1866  851  928 1235  759 1000 1082  788 1676  801 1036  804 1402  975\n",
      "  821  978 1660 1898  780 1431  997 1608  725 1776 1572 1647 1163 1248\n",
      " 1540  913 1646 1049  964 1808 1148  933 1643 1766 1188  948  525 1726\n",
      " 1330 1080 1782  820 1717 1507 1027  941  952 1131 1539 1764 1220 1276\n",
      " 1298 1803 2422 1308  736 1541 2020  918 1668 1126 1062  893 1158 1368\n",
      "  708  530 1392 1014 1214 1208 1102 1473  723  765 1383  902 1702 1022\n",
      "  972 1417  927  561  660 2444 1196  847 1290  752 1614  897 1122 1568\n",
      " 1012 1316 1136 1211 1256  861 1378 1498 1100 1107 1182 1212  742 1487\n",
      " 1119 1199 1846 1549  407 1580 1292  854 1630 1301  995 1067 1150 1455\n",
      " 1943 1664  842  599  836 1103 1222 1337 1175 1108 1582  903  808 1428\n",
      " 1038  734 1104  950  625 1200 1141 1069  938  628 1570  919 1258 1567\n",
      "  682 1254 1700 1374 1261 1155 1838 1285 1816  790 1500  789  585 1466\n",
      " 1418  800 1090 1232 1535  890 1065 2522 1699  754  970 1444 1620 1468\n",
      " 1571  641  696  833 1223 1105 1850 1929 1224 2000 1372 1376  940 1779\n",
      " 1610 1574  930 1679 1112 1453 1177 1132  896 2362 2110 1698 1553 1216\n",
      " 1096 1307 1238 1661 2039 1436 1053  985 1411 1043 1618  761  962 1068\n",
      " 1004 1797  904  735 1206 1526  680 2071 1403  818 2028 1696 2552  671\n",
      " 1324 1044 1839 1960 1190 1482 1127 1472 1728 2117  932 1296 1390  596\n",
      "  516 1173 1654 1251 1675 1295 1020 1502 1604 1339  984  942 1015 1305\n",
      " 1906 1047 1388 1827 1084 1187 1118 1828 1342 1091 1826 1154  971 1051\n",
      " 1165  764 1332  646 2207 1282 1204 1478 1944  767 1313 1229 1491 2046]\n",
      "864     15\n",
      "848      7\n",
      "672      7\n",
      "894      7\n",
      "546      6\n",
      "        ..\n",
      "1500     1\n",
      "1498     1\n",
      "1493     1\n",
      "1491     1\n",
      "1643     1\n",
      "Name: 1st Flr SF, Length: 560, dtype: int64\n",
      "AxesSubplot(0.125,0.125;0.775x0.755)\n"
     ]
    },
    {
     "name": "stdout",
     "output_type": "stream",
     "text": [
      "            1st Flr SF  SalePrice\n",
      "1st Flr SF    1.000000   0.618486\n",
      "SalePrice     0.618486   1.000000\n"
     ]
    },
    {
     "data": {
      "image/png": "[encoded data removed]",
      "text/plain": [
       "<Figure size 432x288 with 1 Axes>"
      ]
     },
     "metadata": {
      "needs_background": "light"
     },
     "output_type": "display_data"
    },
    {
     "data": {
      "image/png": "[encoded data removed]",
      "text/plain": [
       "<Figure size 180x180 with 1 Axes>"
      ]
     },
     "metadata": {
      "needs_background": "light"
     },
     "output_type": "display_data"
    }
   ],
   "source": [
    "# no null no  absurdities no 0's. It makes sense to combine square feet  with 2nd flooor\n",
    "datacleaning('1st Flr SF')"
   ]
  },
  {
   "cell_type": "code",
   "execution_count": 108,
   "id": "17956190",
   "metadata": {},
   "outputs": [
    {
     "name": "stdout",
     "output_type": "stream",
     "text": [
      "count    2051.000000\n",
      "mean     1493.817162\n",
      "std       497.618666\n",
      "min       334.000000\n",
      "25%      1124.500000\n",
      "50%      1440.000000\n",
      "75%      1728.000000\n",
      "max      5642.000000\n",
      "Name: square_feet, dtype: float64\n",
      "0\n",
      "[1479 2122 1057 ... 2668 1913 1804]\n",
      "864     25\n",
      "1040    20\n",
      "1092    19\n",
      "1456    15\n",
      "1200    14\n",
      "        ..\n",
      "1892     1\n",
      "2057     1\n",
      "1898     1\n",
      "1908     1\n",
      "2037     1\n",
      "Name: square_feet, Length: 1051, dtype: int64\n",
      "count     878.000000\n",
      "mean     1494.185649\n",
      "std       505.042804\n",
      "min       407.000000\n",
      "25%      1108.250000\n",
      "50%      1436.000000\n",
      "75%      1776.000000\n",
      "max      4476.000000\n",
      "Name: square_feet, dtype: float64\n",
      "0\n",
      "[1928 1967 1496  968 1394 1092 1093 1268 1680 1279 1217 1040 1375 2787\n",
      " 1827 1340 1436 1073 1773 1742 1060  864 1617  988 1218 1738 1750 1054\n",
      "  670  858  848 2640 1178 1492 1458 1657  998  910 1358 1224 1886 1327\n",
      " 1363 1501 1344 1786  965  936 1248 2268 1615 1360 1142 1026 1820 1193\n",
      " 1865 2006 1140 1176 1670 1603 2063 1302  774  747 2520 1560 1472 1050\n",
      " 1724 1771 1207  882 1780 1459 1107 1688 2042  876 1320 1707 1064  999\n",
      " 1346 1251 1228 1274 1642 1509 1554 1677 1665 1694 1790  923 2470 1244\n",
      "  866 1891 1921 1832 1434 1874 1382 1494 3627 1812 1720 1604 1966 1970\n",
      " 1714 1470 1749 2331 1008 1216 1530 1025 1638 1440 1128 1549 2133 1369\n",
      " 1114  816 1381 1078 1469 1474 1137 1960 1768 1392 1740 1626 1198  900\n",
      "  792 1098 2127 2263 1493 1200 1056 2674 1456 1563 1145 2318 1445 4476\n",
      "  990 1143 1895 1734  691 1949 1242 1666 1978 2167 1350 1258 1489 2068\n",
      "  980  944 1664  945  838 1484  912 1465 1601 2475 2104  934 1710 1427\n",
      " 1269 1370 1933 1876 1292 2036 1557 1737 1830 1389  892 1452 1796  856\n",
      "  846 2290 1977 1273 2344 1518  630 1844  768 2720 1498  844 2772 2097\n",
      " 1352 1919 1284 2374 2314 2018 1651  894 1800 1869 1625 1595 2020 2094\n",
      " 1412 1162 2728 1879 2279 1374 1536 1094 2021 1806 1314 1775 1072 2291\n",
      " 1576 1762 3447 1432 1048 1801 1482  974 1017 1850 2345  987  784 1144\n",
      "  888 1654  925 1437 1596 2061 1958 1884 1902  672 1006 1294 1152 1024\n",
      " 2315 1338 1578 2373 2650 1856 1940 1682 1203 1367 1691 1544  958 1306\n",
      " 1952 1728 1866 1709 1920 1235  759 1802 1082  788 1676 1447 1036 2225\n",
      " 1848 1776 1490 1864 1398 1660 2978 1521 1431 2052 1517 1608 1234 1572\n",
      " 1647 2014 1163 2544 1824 2855  913 1426 1646 1049 1889 1808 2550 1908\n",
      " 1643 2414 1512 1188 1323 1726 1564 1226 1330 1511 1752 1782 1343 1717\n",
      " 1507 1027 1829 1904  952 1131 1588 2673 1764 2090 2612 1271 2514 1803\n",
      " 2422 3086 1290 1541  918 1668 1126 1062  893 1594 2376 1368 1416 1080\n",
      " 1744 1214 1090 1208 1102 1473 1086  765 2398 1702 1774 1553 1811 1417\n",
      " 1915  960 1229 1348 4316 1196 1959 1759 2161  752  884 1614 1516  897\n",
      " 2243 1568 1620 1012 1316  845 2236 3194 1136 1211 1256 1285 2372 2264\n",
      " 2324 1414 1968 1149 2499 1119 1199 1846 2727 1304 1610 1365 1308  407\n",
      " 1580 1630 2417  995 1539 1836 1455 2656  599  836 1746 1103 1222 1772\n",
      " 1022 1337 1052 1982 2468 1582 1281 2199  808 2126 1428  840 1038 1548\n",
      " 1118  950 1250 1141 1069  938  832 1570  919 2654 1230 2212 1261 1155\n",
      " 1120 1838  796 1505 2067 1540 1816 1870 1574 1500  789 1212 1053 2828\n",
      " 1418  800 2214 1430 1232 1535  890 1476 1065 2522 2177 2447 1444  860\n",
      " 1468 1571  641 2169 1675 1175  833  720 1944 1032 1822 2748 2461 2000\n",
      " 1372 3005 1755  970 1716 1550  780 2551 1644 1645 1679 1112 1837 1453\n",
      " 1177 1692 2358 1132 1882  896 2362 2110 1005 1698 1096 1210 2519 1739\n",
      " 1661 2039 1992  985 2198 1411 1043 1618 1792 2184 1004 1797 1362 1499\n",
      " 1395 1068 1206 1868 1526 1245 2071 2411 2028 1696 2552 1408 1324  926\n",
      " 2098 1839 1984 1628 1190 2262 2013 2117 1612 2592 2795 1192 1383 2149\n",
      " 1173 1298 2349 1295 1020 1502 1930 1339  984 2322 1015  949 2494 1386\n",
      " 1906 1047 1400 1388 2786 1951 1404 1828 1342 1091 1826 1154  971 1051\n",
      " 1524 2207 1852 1282 1204  943 1674 1605 1478  767 1313 1725 1491 2432\n",
      " 2046 1390 1877 1988]\n",
      "864     16\n",
      "848      7\n",
      "1092     7\n",
      "816      5\n",
      "1456     5\n",
      "        ..\n",
      "1414     1\n",
      "1771     1\n",
      "752      1\n",
      "1408     1\n",
      "2552     1\n",
      "Name: square_feet, Length: 620, dtype: int64\n",
      "AxesSubplot(0.125,0.125;0.775x0.755)\n",
      "             square_feet  SalePrice\n",
      "square_feet      1.00000    0.70527\n",
      "SalePrice        0.70527    1.00000\n"
     ]
    },
    {
     "data": {
      "image/png": "[encoded data removed]",
      "text/plain": [
       "<Figure size 432x288 with 1 Axes>"
      ]
     },
     "metadata": {
      "needs_background": "light"
     },
     "output_type": "display_data"
    },
    {
     "data": {
      "image/png": "[encoded data removed]",
      "text/plain": [
       "<Figure size 180x180 with 1 Axes>"
      ]
     },
     "metadata": {
      "needs_background": "light"
     },
     "output_type": "display_data"
    }
   ],
   "source": [
    "#dftrain['square_feet'] = dftrain['1st Flr SF'] + dftrain['2nd Flr SF']\n",
    "#dftest['square_feet']=dftest['1st Flr SF'] + dftest['2nd Flr SF']\n",
    "datacleaning('square_feet')"
   ]
  },
  {
   "cell_type": "code",
   "execution_count": 109,
   "id": "55bf5cf9",
   "metadata": {},
   "outputs": [
    {
     "name": "stdout",
     "output_type": "stream",
     "text": [
      "count    2051.000000\n",
      "mean        5.512921\n",
      "std        51.068870\n",
      "min         0.000000\n",
      "25%         0.000000\n",
      "50%         0.000000\n",
      "75%         0.000000\n",
      "max      1064.000000\n",
      "Name: Low Qual Fin SF, dtype: float64\n",
      "0\n",
      "[   0  205   80  528  513  371  473  108 1064  515  120  312  572  234\n",
      "  390  697  114  512  144  514  397  140  479  259  436  156  384  360\n",
      "   53  362  450]\n",
      "0       2018\n",
      "80         3\n",
      "205        2\n",
      "512        1\n",
      "515        1\n",
      "513        1\n",
      "479        1\n",
      "473        1\n",
      "397        1\n",
      "371        1\n",
      "259        1\n",
      "53         1\n",
      "1064       1\n",
      "572        1\n",
      "528        1\n",
      "514        1\n",
      "450        1\n",
      "436        1\n",
      "390        1\n",
      "384        1\n",
      "362        1\n",
      "360        1\n",
      "312        1\n",
      "234        1\n",
      "156        1\n",
      "144        1\n",
      "140        1\n",
      "120        1\n",
      "114        1\n",
      "108        1\n",
      "697        1\n",
      "Name: Low Qual Fin SF, dtype: int64\n",
      "count    878.000000\n",
      "mean       2.728929\n",
      "std       32.572548\n",
      "min        0.000000\n",
      "25%        0.000000\n",
      "50%        0.000000\n",
      "75%        0.000000\n",
      "max      481.000000\n",
      "Name: Low Qual Fin SF, dtype: float64\n",
      "0\n",
      "[  0 360 431 481  80 392 232 420]\n",
      "0      871\n",
      "80       1\n",
      "232      1\n",
      "360      1\n",
      "392      1\n",
      "420      1\n",
      "431      1\n",
      "481      1\n",
      "Name: Low Qual Fin SF, dtype: int64\n",
      "AxesSubplot(0.125,0.125;0.775x0.755)\n",
      "                 Low Qual Fin SF  SalePrice\n",
      "Low Qual Fin SF         1.000000  -0.041594\n",
      "SalePrice              -0.041594   1.000000\n"
     ]
    },
    {
     "data": {
      "image/png": "[encoded data removed]",
      "text/plain": [
       "<Figure size 432x288 with 1 Axes>"
      ]
     },
     "metadata": {
      "needs_background": "light"
     },
     "output_type": "display_data"
    },
    {
     "data": {
      "image/png": "[encoded data removed]",
      "text/plain": [
       "<Figure size 180x180 with 1 Axes>"
      ]
     },
     "metadata": {
      "needs_background": "light"
     },
     "output_type": "display_data"
    }
   ],
   "source": [
    "datacleaning('Low Qual Fin SF')  #Useless variable-not enough data points to be useful-\n",
    "#Can drop id, 1stflsq, 2ndflsq and low qual."
   ]
  },
  {
   "cell_type": "code",
   "execution_count": 110,
   "id": "955aaffc",
   "metadata": {},
   "outputs": [
    {
     "name": "stdout",
     "output_type": "stream",
     "text": [
      "count    2051.000000\n",
      "mean     1499.330083\n",
      "std       500.447829\n",
      "min       334.000000\n",
      "25%      1129.000000\n",
      "50%      1444.000000\n",
      "75%      1728.500000\n",
      "max      5642.000000\n",
      "Name: Gr Liv Area, dtype: float64\n",
      "0\n",
      "[1479 2122 1057 ... 2668 1913 1804]\n",
      "864     25\n",
      "1040    20\n",
      "1092    19\n",
      "1200    16\n",
      "1456    15\n",
      "        ..\n",
      "1894     1\n",
      "1898     1\n",
      "2057     1\n",
      "1908     1\n",
      "2037     1\n",
      "Name: Gr Liv Area, Length: 1053, dtype: int64\n",
      "count     878.000000\n",
      "mean     1496.914579\n",
      "std       506.468967\n",
      "min       407.000000\n",
      "25%      1114.000000\n",
      "50%      1436.000000\n",
      "75%      1779.000000\n",
      "max      4476.000000\n",
      "Name: Gr Liv Area, dtype: float64\n",
      "0\n",
      "[1928 1967 1496  968 1394 1092 1093 1268 1680 1279 1217 1040 1375 2787\n",
      " 1827 1340 1436 1073 1773 1742 1060  864 1617  988 1218 1738 1750 1054\n",
      "  670  858 1208 2640 1178 1492 1458 1657  998  910 1358 1224 1886 1327\n",
      " 1363 1501 1344 1786  965  936 1248 2268 1615 1360 1142 1026 1820 1193\n",
      " 1865 2006 1140 1176 1670 1603 2063 1302  774  848  747 2520 1560 1472\n",
      " 1050 1724 1771 1207  882 1780 1459 1107 1688 2042  876 1320 1707 1495\n",
      "  999 1346 1251 1228 1274 1642 1509 1554 1677 1665 1694 1790  923 2470\n",
      " 1244  866 1891 1921 1832 1434 1874 1382 1494 3627 1812 1720 1604 1966\n",
      " 1970 1714 1470 2230 2331 1008 1216 1530 1025 1638 1440 1128 1549 2133\n",
      " 1369 1114  816 1381 1078 1469 1474 1137 1960 1768 1392 1740 1626 1198\n",
      "  900  792 1098 2127 2263 1493 1200 1056 2674 1456 1563 1145 2318 1445\n",
      " 4476  990 1223 1895 1734  691 1949 1242 1666 1978 2167 1350 1258 1489\n",
      " 2068  980  944 1664  945  838 1484  912 1465 1601 2475 2104  934 1710\n",
      " 1427 1269 1370 1933 1876 1292 2036 1557 1737 1830 1389  892 1452 1796\n",
      "  856  846 2290 1977 1273 2344 1518  630 1844  768 3112 1498  844 2772\n",
      " 2097 1352 1919 1284 2374 2314 2018 1651  894 1800 1869 1625 1595 2020\n",
      " 2094 1412 1162 2728 1879 2279 1374 1536 1094 2021 1806 1314 1775 1072\n",
      " 2291 1576 1762 3447 1432 1048 1801 1482  974 1017 1850 2345  987  784\n",
      " 1144  888 1654  925 1437 1596 2061 1958 1884 1902  672 1006 1294 1152\n",
      " 1024 2315 1338 1578 2373 2650 1856 1940 1682 1203 1367 1691 1544  958\n",
      " 1306 1952 1728 1866 1709 1920 1235  759 1802 1082  788 1676 1447 2225\n",
      " 1848 1776 1490 1064 1864 1398 1660 2978 1521 1431 2052 1517 1608 1234\n",
      " 1572 1647 2014 1163 2544 1824 2855  913 1426 1646 1049 1889 1808 2550\n",
      " 1908 1643 2414 1512 1188 1323 1726 1564 1226 1330 1511 1752 1782 1343\n",
      " 1717 1507 1027 1829 1904  952 1131 1588 2673 1764 2090 2612 1271 2514\n",
      " 1803 2422 3086 1290 1541  918 1668 1126 1062  893 1594 2376 1368 1416\n",
      " 1080 1744 1214 1090 1102 1473 1086  765 2398 1702 1774 1553 1811 1417\n",
      " 1915  960 1229 1348 4316 1196 1959 1759 2161  752  884 1614 1516  897\n",
      " 2243 1568 1620 1012 1316  845 2236 3194 1136 1211 1256 1285 2372 2264\n",
      " 2324 1414 1968 1149 2499 1119 1199 1846 2727 1304 1610 1365 1308  407\n",
      " 1580 1630 2417  995 1539 1836 1455 2656 1036  599  836 1746 1103 1222\n",
      " 2192 1022 1337 1052 1982 2468 1582 1281 2199  808 2126 1428  840 1038\n",
      " 1548 1118  950 1250 1141 1069  938  832 1570  919 2654 1230 2212 1261\n",
      " 1155 1120 1838  796 1505 2067 1540 1816 1870 1574 1500  789 1212 1053\n",
      " 2828 1418  800 2214 1430 1232 1535  890 1476 1065 2522 2177 2447 1444\n",
      "  860 1468 1571  641 2169 1675 1175  833  720 1944 1032 1822 2748 2461\n",
      " 2000 1372 3005 1755  970 1716 1550  780 2551 1644 1645 1679 1112 1837\n",
      " 1453 1177 1692 2358 1132 1882  896 2362 2110 1005 1698 1096 1210 2519\n",
      " 1739 1661 2039 1992  985 2198 1411 1043 1618 1792 2184 1004 1797 1362\n",
      " 1499 1395 1068 1206 1868 1526 1245 2071 2411 2028 1696 2552 1408 1324\n",
      "  926 2098 1839 1984 1628 1190 2262 2013 2117 1612 2592 2795 1192 1383\n",
      " 2149 1173 1298 2349 1295 1020 1502 1930 1339  984 2322 1015  949 2494\n",
      " 1386 1906 1047 1400 1388 2786 1951 1404 1828 1342 1091 1826 1154  971\n",
      " 1051 1524 2207 1852 1282 1204  943 1674 1605 1478  767 1313 1725 1491\n",
      " 2432 2046 1390 1877 1988]\n",
      "864     16\n",
      "1092     7\n",
      "848      6\n",
      "816      5\n",
      "894      5\n",
      "        ..\n",
      "1511     1\n",
      "1509     1\n",
      "1507     1\n",
      "1505     1\n",
      "1024     1\n",
      "Name: Gr Liv Area, Length: 621, dtype: int64\n",
      "AxesSubplot(0.125,0.125;0.775x0.755)\n",
      "             Gr Liv Area  SalePrice\n",
      "Gr Liv Area     1.000000   0.697038\n",
      "SalePrice       0.697038   1.000000\n"
     ]
    },
    {
     "data": {
      "image/png": "[encoded data removed]",
      "text/plain": [
       "<Figure size 432x288 with 1 Axes>"
      ]
     },
     "metadata": {
      "needs_background": "light"
     },
     "output_type": "display_data"
    },
    {
     "data": {
      "image/png": "[encoded data removed]",
      "text/plain": [
       "<Figure size 180x180 with 1 Axes>"
      ]
     },
     "metadata": {
      "needs_background": "light"
     },
     "output_type": "display_data"
    }
   ],
   "source": [
    "datacleaning('Gr Liv Area')  #Looks no different than square feet-dropping this as dup-\n",
    "#Sq feet's correlation is higher than this one by a small margin\n",
    "#Can drop id, 1stflsq, 2ndflsq, gr liv area and low qual."
   ]
  },
  {
   "cell_type": "code",
   "execution_count": 111,
   "id": "90b803b5",
   "metadata": {},
   "outputs": [
    {
     "name": "stdout",
     "output_type": "stream",
     "text": [
      "count    2051.000000\n",
      "mean        1.577279\n",
      "std         0.549279\n",
      "min         0.000000\n",
      "25%         1.000000\n",
      "50%         2.000000\n",
      "75%         2.000000\n",
      "max         4.000000\n",
      "Name: Full Bath, dtype: float64\n",
      "0\n",
      "[2 1 3 0 4]\n",
      "2    1096\n",
      "1     900\n",
      "3      45\n",
      "0       8\n",
      "4       2\n",
      "Name: Full Bath, dtype: int64\n",
      "count    878.000000\n",
      "mean       1.539863\n",
      "std        0.559060\n",
      "min        0.000000\n",
      "25%        1.000000\n",
      "50%        2.000000\n",
      "75%        2.000000\n",
      "max        4.000000\n",
      "Name: Full Bath, dtype: float64\n",
      "0\n",
      "[2 1 4 3 0]\n",
      "2    436\n",
      "1    418\n",
      "3     18\n",
      "0      4\n",
      "4      2\n",
      "Name: Full Bath, dtype: int64\n",
      "AxesSubplot(0.125,0.125;0.775x0.755)\n",
      "           Full Bath  SalePrice\n",
      "Full Bath   1.000000   0.537969\n",
      "SalePrice   0.537969   1.000000\n"
     ]
    },
    {
     "data": {
      "image/png": "[encoded data removed]",
      "text/plain": [
       "<Figure size 432x288 with 1 Axes>"
      ]
     },
     "metadata": {
      "needs_background": "light"
     },
     "output_type": "display_data"
    },
    {
     "data": {
      "image/png": "[encoded data removed]",
      "text/plain": [
       "<Figure size 180x180 with 1 Axes>"
      ]
     },
     "metadata": {
      "needs_background": "light"
     },
     "output_type": "display_data"
    }
   ],
   "source": [
    "datacleaning('Full Bath')# May need to do an interaction with square feet and bedrooms\\\n",
    "# may need to make a dummy with 0< 1 bath or greater than 1 bath\n",
    "#--Can drop id, 1stflsq, 2ndflsq, gr liv area and low qual."
   ]
  },
  {
   "cell_type": "code",
   "execution_count": 112,
   "id": "017835c4",
   "metadata": {},
   "outputs": [
    {
     "name": "stdout",
     "output_type": "stream",
     "text": [
      "count    2051.000000\n",
      "mean        0.371039\n",
      "std         0.501043\n",
      "min         0.000000\n",
      "25%         0.000000\n",
      "50%         0.000000\n",
      "75%         1.000000\n",
      "max         2.000000\n",
      "Name: Half Bath, dtype: float64\n",
      "0\n",
      "[1 0 2]\n",
      "0    1308\n",
      "1     725\n",
      "2      18\n",
      "Name: Half Bath, dtype: int64\n",
      "count    878.000000\n",
      "mean       0.398633\n",
      "std        0.505927\n",
      "min        0.000000\n",
      "25%        0.000000\n",
      "50%        0.000000\n",
      "75%        1.000000\n",
      "max        2.000000\n",
      "Name: Half Bath, dtype: float64\n",
      "0\n",
      "[0 1 2]\n",
      "0    535\n",
      "1    336\n",
      "2      7\n",
      "Name: Half Bath, dtype: int64\n",
      "AxesSubplot(0.125,0.125;0.775x0.755)\n",
      "           Half Bath  SalePrice\n",
      "Half Bath   1.000000   0.283001\n",
      "SalePrice   0.283001   1.000000\n"
     ]
    },
    {
     "data": {
      "image/png": "[encoded data removed]",
      "text/plain": [
       "<Figure size 432x288 with 1 Axes>"
      ]
     },
     "metadata": {
      "needs_background": "light"
     },
     "output_type": "display_data"
    },
    {
     "data": {
      "image/png": "[encoded data removed]",
      "text/plain": [
       "<Figure size 180x180 with 1 Axes>"
      ]
     },
     "metadata": {
      "needs_background": "light"
     },
     "output_type": "display_data"
    }
   ],
   "source": [
    "datacleaning('Half Bath')  #May have to add the baths or use interaction"
   ]
  },
  {
   "cell_type": "code",
   "execution_count": 113,
   "id": "5d2c29d4",
   "metadata": {},
   "outputs": [
    {
     "name": "stdout",
     "output_type": "stream",
     "text": [
      "count    2051.000000\n",
      "mean        2.843491\n",
      "std         0.826618\n",
      "min         0.000000\n",
      "25%         2.000000\n",
      "50%         3.000000\n",
      "75%         3.000000\n",
      "max         8.000000\n",
      "Name: Bedroom AbvGr, dtype: float64\n",
      "0\n",
      "[3 4 2 5 1 0 6 8]\n",
      "3    1108\n",
      "2     544\n",
      "4     265\n",
      "1      75\n",
      "5      41\n",
      "6      12\n",
      "0       5\n",
      "8       1\n",
      "Name: Bedroom AbvGr, dtype: int64\n",
      "count    878.000000\n",
      "mean       2.879271\n",
      "std        0.830712\n",
      "min        0.000000\n",
      "25%        2.000000\n",
      "50%        3.000000\n",
      "75%        3.000000\n",
      "max        6.000000\n",
      "Name: Bedroom AbvGr, dtype: float64\n",
      "0\n",
      "[4 6 3 2 1 5 0]\n",
      "3    488\n",
      "2    199\n",
      "4    135\n",
      "1     37\n",
      "6      9\n",
      "5      7\n",
      "0      3\n",
      "Name: Bedroom AbvGr, dtype: int64\n",
      "AxesSubplot(0.125,0.125;0.775x0.755)\n",
      "               Bedroom AbvGr  SalePrice\n",
      "Bedroom AbvGr       1.000000   0.137067\n",
      "SalePrice           0.137067   1.000000\n"
     ]
    },
    {
     "data": {
      "image/png": "[encoded data removed]",
      "text/plain": [
       "<Figure size 432x288 with 1 Axes>"
      ]
     },
     "metadata": {
      "needs_background": "light"
     },
     "output_type": "display_data"
    },
    {
     "data": {
      "image/png": "[encoded data removed]",
      "text/plain": [
       "<Figure size 180x180 with 1 Axes>"
      ]
     },
     "metadata": {
      "needs_background": "light"
     },
     "output_type": "display_data"
    }
   ],
   "source": [
    "datacleaning('Bedroom AbvGr')   #correlation is surprisingly low-probably wouldn't include\n",
    "#--Can drop id, 1stflsq, 2ndflsq, gr liv area, bedroom abvgr, half bathand low qual.\n",
    "#include sq feet and Full Bath"
   ]
  },
  {
   "cell_type": "code",
   "execution_count": 114,
   "id": "e73ad251",
   "metadata": {},
   "outputs": [
    {
     "name": "stdout",
     "output_type": "stream",
     "text": [
      "count    2051.000000\n",
      "mean        1.042906\n",
      "std         0.209790\n",
      "min         0.000000\n",
      "25%         1.000000\n",
      "50%         1.000000\n",
      "75%         1.000000\n",
      "max         3.000000\n",
      "Name: Kitchen AbvGr, dtype: float64\n",
      "0\n",
      "[1 2 0 3]\n",
      "1    1960\n",
      "2      88\n",
      "0       2\n",
      "3       1\n",
      "Name: Kitchen AbvGr, dtype: int64\n",
      "count    878.000000\n",
      "mean       1.047836\n",
      "std        0.223966\n",
      "min        0.000000\n",
      "25%        1.000000\n",
      "50%        1.000000\n",
      "75%        1.000000\n",
      "max        3.000000\n",
      "Name: Kitchen AbvGr, dtype: float64\n",
      "0\n",
      "[2 1 0 3]\n",
      "1    835\n",
      "2     41\n",
      "0      1\n",
      "3      1\n",
      "Name: Kitchen AbvGr, dtype: int64\n",
      "AxesSubplot(0.125,0.125;0.775x0.755)\n",
      "               Kitchen AbvGr  SalePrice\n",
      "Kitchen AbvGr       1.000000  -0.125444\n",
      "SalePrice          -0.125444   1.000000\n"
     ]
    },
    {
     "data": {
      "image/png": "[encoded data removed]",
      "text/plain": [
       "<Figure size 432x288 with 1 Axes>"
      ]
     },
     "metadata": {
      "needs_background": "light"
     },
     "output_type": "display_data"
    },
    {
     "data": {
      "image/png": "[encoded data removed]",
      "text/plain": [
       "<Figure size 180x180 with 1 Axes>"
      ]
     },
     "metadata": {
      "needs_background": "light"
     },
     "output_type": "display_data"
    }
   ],
   "source": [
    "datacleaning('Kitchen AbvGr')# based on low correlation and scatterplot-leave out variable-drop\n",
    "#--Can drop id, 1stflsq, 2ndflsq, gr liv area, bedroom abvgr, kitchen abv gr,half bath,and low qual.\n",
    "#include sq feet and Full Bath"
   ]
  },
  {
   "cell_type": "code",
   "execution_count": 115,
   "id": "128d57f0",
   "metadata": {},
   "outputs": [
    {
     "name": "stdout",
     "output_type": "stream",
     "text": [
      "count    2051.000000\n",
      "mean        6.435885\n",
      "std         1.560225\n",
      "min         2.000000\n",
      "25%         5.000000\n",
      "50%         6.000000\n",
      "75%         7.000000\n",
      "max        15.000000\n",
      "Name: TotRms AbvGrd, dtype: float64\n",
      "0\n",
      "[ 6  8  5  7  9  4 12 11 10  3 14  2 13 15]\n",
      "6     597\n",
      "7     475\n",
      "5     407\n",
      "8     228\n",
      "4     146\n",
      "9      98\n",
      "10     49\n",
      "11     22\n",
      "12     13\n",
      "3      12\n",
      "2       1\n",
      "14      1\n",
      "13      1\n",
      "15      1\n",
      "Name: TotRms AbvGrd, dtype: int64\n",
      "count    878.000000\n",
      "mean       6.454442\n",
      "std        1.596632\n",
      "min        3.000000\n",
      "25%        5.000000\n",
      "50%        6.000000\n",
      "75%        7.000000\n",
      "max       12.000000\n",
      "Name: TotRms AbvGrd, dtype: float64\n",
      "0\n",
      "[ 9 10  7  5  6  3  8  4 11 12]\n",
      "6     247\n",
      "5     179\n",
      "7     174\n",
      "8     119\n",
      "4      57\n",
      "9      45\n",
      "10     31\n",
      "3      14\n",
      "11      9\n",
      "12      3\n",
      "Name: TotRms AbvGrd, dtype: int64\n",
      "AxesSubplot(0.125,0.125;0.775x0.755)\n",
      "               TotRms AbvGrd  SalePrice\n",
      "TotRms AbvGrd       1.000000   0.504014\n",
      "SalePrice           0.504014   1.000000\n"
     ]
    },
    {
     "data": {
      "image/png": "[encoded data removed]",
      "text/plain": [
       "<Figure size 432x288 with 1 Axes>"
      ]
     },
     "metadata": {
      "needs_background": "light"
     },
     "output_type": "display_data"
    },
    {
     "data": {
      "image/png": "[encoded data removed]",
      "text/plain": [
       "<Figure size 180x180 with 1 Axes>"
      ]
     },
     "metadata": {
      "needs_background": "light"
     },
     "output_type": "display_data"
    }
   ],
   "source": [
    "datacleaning('TotRms AbvGrd')\n",
    "\n",
    "#Can drop id, 1stflsq, 2ndflsq, gr liv area, bedroom abvgr, kitchen abv gr,half bath,and low qual.\n",
    "#include sq feet and Full Bath\n",
    "#maybe include--sq feet should cover this"
   ]
  },
  {
   "cell_type": "code",
   "execution_count": 116,
   "id": "ec642856",
   "metadata": {},
   "outputs": [
    {
     "name": "stdout",
     "output_type": "stream",
     "text": [
      "count    2051.000000\n",
      "mean        0.590931\n",
      "std         0.638516\n",
      "min         0.000000\n",
      "25%         0.000000\n",
      "50%         1.000000\n",
      "75%         1.000000\n",
      "max         4.000000\n",
      "Name: Fireplaces, dtype: float64\n",
      "0\n",
      "[0 1 2 4 3]\n",
      "0    1000\n",
      "1     898\n",
      "2     146\n",
      "3       6\n",
      "4       1\n",
      "Name: Fireplaces, dtype: int64\n",
      "count    878.000000\n",
      "mean       0.618451\n",
      "std        0.669571\n",
      "min        0.000000\n",
      "25%        0.000000\n",
      "50%        1.000000\n",
      "75%        1.000000\n",
      "max        3.000000\n",
      "Name: Fireplaces, dtype: float64\n",
      "0\n",
      "[0 1 2 3]\n",
      "0    422\n",
      "1    375\n",
      "2     75\n",
      "3      6\n",
      "Name: Fireplaces, dtype: int64\n",
      "AxesSubplot(0.125,0.125;0.775x0.755)\n",
      "            Fireplaces  SalePrice\n",
      "Fireplaces    1.000000   0.471093\n",
      "SalePrice     0.471093   1.000000\n"
     ]
    },
    {
     "data": {
      "image/png": "[encoded data removed]",
      "text/plain": [
       "<Figure size 432x288 with 1 Axes>"
      ]
     },
     "metadata": {
      "needs_background": "light"
     },
     "output_type": "display_data"
    },
    {
     "data": {
      "image/png": "[encoded data removed]",
      "text/plain": [
       "<Figure size 180x180 with 1 Axes>"
      ]
     },
     "metadata": {
      "needs_background": "light"
     },
     "output_type": "display_data"
    }
   ],
   "source": [
    "datacleaning('Fireplaces')"
   ]
  },
  {
   "cell_type": "code",
   "execution_count": 78,
   "id": "371d45ec",
   "metadata": {},
   "outputs": [
    {
     "data": {
      "text/plain": [
       "Id                 int64\n",
       "2nd Flr SF         int64\n",
       "Low Qual Fin SF    int64\n",
       "Gr Liv Area        int64\n",
       "Full Bath          int64\n",
       "Half Bath          int64\n",
       "Bedroom AbvGr      int64\n",
       "Kitchen AbvGr      int64\n",
       "TotRms AbvGrd      int64\n",
       "1st Flr SF         int64\n",
       "Fireplaces         int64\n",
       "Open Porch SF      int64\n",
       "Enclosed Porch     int64\n",
       "3Ssn Porch         int64\n",
       "Screen Porch       int64\n",
       "Pool Area          int64\n",
       "Misc Val           int64\n",
       "Mo Sold            int64\n",
       "Yr Sold            int64\n",
       "Wood Deck SF       int64\n",
       "Year Remod/Add     int64\n",
       "SalePrice          int64\n",
       "Lot Area           int64\n",
       "PID                int64\n",
       "MS SubClass        int64\n",
       "Overall Qual       int64\n",
       "Year Built         int64\n",
       "Overall Cond       int64\n",
       "dtype: object"
      ]
     },
     "execution_count": 78,
     "metadata": {},
     "output_type": "execute_result"
    }
   ],
   "source": [
    "\n",
    "\n",
    "dftrain.dtypes.sort_values().head(28)"
   ]
  },
  {
   "cell_type": "code",
   "execution_count": 80,
   "id": "5d91ddb7",
   "metadata": {},
   "outputs": [
    {
     "data": {
      "text/plain": [
       "Id                 int64\n",
       "Bsmt Unf SF        int64\n",
       "Yr Sold            int64\n",
       "1st Flr SF         int64\n",
       "2nd Flr SF         int64\n",
       "Low Qual Fin SF    int64\n",
       "Gr Liv Area        int64\n",
       "Bsmt Full Bath     int64\n",
       "Bsmt Half Bath     int64\n",
       "Full Bath          int64\n",
       "Half Bath          int64\n",
       "Bedroom AbvGr      int64\n",
       "BsmtFin SF 2       int64\n",
       "Kitchen AbvGr      int64\n",
       "Fireplaces         int64\n",
       "Garage Cars        int64\n",
       "Garage Area        int64\n",
       "Wood Deck SF       int64\n",
       "Open Porch SF      int64\n",
       "Enclosed Porch     int64\n",
       "3Ssn Porch         int64\n",
       "Screen Porch       int64\n",
       "Pool Area          int64\n",
       "Misc Val           int64\n",
       "Mo Sold            int64\n",
       "TotRms AbvGrd      int64\n",
       "BsmtFin SF 1       int64\n",
       "Total Bsmt SF      int64\n",
       "dtype: object"
      ]
     },
     "execution_count": 80,
     "metadata": {},
     "output_type": "execute_result"
    }
   ],
   "source": [
    "dftest.dtypes.sort_values().head(28)"
   ]
  },
  {
   "cell_type": "code",
   "execution_count": null,
   "id": "d778d325",
   "metadata": {},
   "outputs": [],
   "source": []
  },
  {
   "cell_type": "code",
   "execution_count": 11,
   "id": "70ce8008",
   "metadata": {},
   "outputs": [
    {
     "data": {
      "text/plain": [
       "(2051, 81)"
      ]
     },
     "execution_count": 11,
     "metadata": {},
     "output_type": "execute_result"
    }
   ],
   "source": [
    "dftrain.shape\n"
   ]
  },
  {
   "cell_type": "code",
   "execution_count": null,
   "id": "02bed1e3",
   "metadata": {},
   "outputs": [],
   "source": [
    "dftrain.corr()['SalePrice'][(dftrain.corr()['SalePrice'].sort_values().abs() > .4)]"
   ]
  },
  {
   "cell_type": "code",
   "execution_count": null,
   "id": "06e273e9",
   "metadata": {},
   "outputs": [],
   "source": [
    "sns.heatmap(dftrain.corr(), annot=True, cmap='coolwarm', vmin=-1, vmax=1)"
   ]
  },
  {
   "cell_type": "code",
   "execution_count": 20,
   "id": "60508e8a",
   "metadata": {},
   "outputs": [],
   "source": [
    "#Initial Run\n",
    "#features=['square_feet','Full Bath']\n",
    "#X=dftrain[features]\n",
    "X = dftrain._get_numeric_data().drop(columns='SalePrice')\n",
    "features = list(X.columns)\n",
    "target=dftrain[['SalePrice']]\n",
    "#define features, target\n",
    "#X = dftrain[[features]].values\n",
    "y = target \n",
    "\n"
   ]
  },
  {
   "cell_type": "code",
   "execution_count": 21,
   "id": "90d28f95",
   "metadata": {},
   "outputs": [
    {
     "name": "stdout",
     "output_type": "stream",
     "text": [
      "(1538, 38) (1538, 1)\n",
      "(513, 38) (513, 1)\n"
     ]
    }
   ],
   "source": [
    "X_train, X_test, y_train, y_test= train_test_split(X,y,random_state=42)\n",
    "print(X_train.shape, y_train.shape)\n",
    "print(X_test.shape, y_test.shape)"
   ]
  },
  {
   "cell_type": "code",
   "execution_count": 25,
   "id": "390285a9",
   "metadata": {},
   "outputs": [
    {
     "ename": "ValueError",
     "evalue": "Input contains NaN, infinity or a value too large for dtype('float64').",
     "output_type": "error",
     "traceback": [
      "\u001b[0;31m---------------------------------------------------------------------------\u001b[0m",
      "\u001b[0;31mValueError\u001b[0m                                Traceback (most recent call last)",
      "\u001b[0;32m<ipython-input-25-ecc17d3511fd>\u001b[0m in \u001b[0;36m<module>\u001b[0;34m\u001b[0m\n\u001b[1;32m      5\u001b[0m \u001b[0;34m\u001b[0m\u001b[0m\n\u001b[1;32m      6\u001b[0m \u001b[0;31m#fit estimator\u001b[0m\u001b[0;34m\u001b[0m\u001b[0;34m\u001b[0m\u001b[0;34m\u001b[0m\u001b[0m\n\u001b[0;32m----> 7\u001b[0;31m \u001b[0mmodel\u001b[0m \u001b[0;34m=\u001b[0m \u001b[0mlr\u001b[0m\u001b[0;34m.\u001b[0m\u001b[0mfit\u001b[0m\u001b[0;34m(\u001b[0m\u001b[0mX_train\u001b[0m\u001b[0;34m,\u001b[0m \u001b[0my_train\u001b[0m\u001b[0;34m)\u001b[0m\u001b[0;34m\u001b[0m\u001b[0;34m\u001b[0m\u001b[0m\n\u001b[0m\u001b[1;32m      8\u001b[0m \u001b[0mmodel\u001b[0m\u001b[0;34m\u001b[0m\u001b[0;34m\u001b[0m\u001b[0m\n\u001b[1;32m      9\u001b[0m \u001b[0;31m#predict and score\u001b[0m\u001b[0;34m\u001b[0m\u001b[0;34m\u001b[0m\u001b[0;34m\u001b[0m\u001b[0m\n",
      "\u001b[0;32m~/opt/anaconda3/lib/python3.8/site-packages/sklearn/linear_model/_base.py\u001b[0m in \u001b[0;36mfit\u001b[0;34m(self, X, y, sample_weight)\u001b[0m\n\u001b[1;32m    516\u001b[0m         \u001b[0maccept_sparse\u001b[0m \u001b[0;34m=\u001b[0m \u001b[0;32mFalse\u001b[0m \u001b[0;32mif\u001b[0m \u001b[0mself\u001b[0m\u001b[0;34m.\u001b[0m\u001b[0mpositive\u001b[0m \u001b[0;32melse\u001b[0m \u001b[0;34m[\u001b[0m\u001b[0;34m'csr'\u001b[0m\u001b[0;34m,\u001b[0m \u001b[0;34m'csc'\u001b[0m\u001b[0;34m,\u001b[0m \u001b[0;34m'coo'\u001b[0m\u001b[0;34m]\u001b[0m\u001b[0;34m\u001b[0m\u001b[0;34m\u001b[0m\u001b[0m\n\u001b[1;32m    517\u001b[0m \u001b[0;34m\u001b[0m\u001b[0m\n\u001b[0;32m--> 518\u001b[0;31m         X, y = self._validate_data(X, y, accept_sparse=accept_sparse,\n\u001b[0m\u001b[1;32m    519\u001b[0m                                    y_numeric=True, multi_output=True)\n\u001b[1;32m    520\u001b[0m \u001b[0;34m\u001b[0m\u001b[0m\n",
      "\u001b[0;32m~/opt/anaconda3/lib/python3.8/site-packages/sklearn/base.py\u001b[0m in \u001b[0;36m_validate_data\u001b[0;34m(self, X, y, reset, validate_separately, **check_params)\u001b[0m\n\u001b[1;32m    431\u001b[0m                 \u001b[0my\u001b[0m \u001b[0;34m=\u001b[0m \u001b[0mcheck_array\u001b[0m\u001b[0;34m(\u001b[0m\u001b[0my\u001b[0m\u001b[0;34m,\u001b[0m \u001b[0;34m**\u001b[0m\u001b[0mcheck_y_params\u001b[0m\u001b[0;34m)\u001b[0m\u001b[0;34m\u001b[0m\u001b[0;34m\u001b[0m\u001b[0m\n\u001b[1;32m    432\u001b[0m             \u001b[0;32melse\u001b[0m\u001b[0;34m:\u001b[0m\u001b[0;34m\u001b[0m\u001b[0;34m\u001b[0m\u001b[0m\n\u001b[0;32m--> 433\u001b[0;31m                 \u001b[0mX\u001b[0m\u001b[0;34m,\u001b[0m \u001b[0my\u001b[0m \u001b[0;34m=\u001b[0m \u001b[0mcheck_X_y\u001b[0m\u001b[0;34m(\u001b[0m\u001b[0mX\u001b[0m\u001b[0;34m,\u001b[0m \u001b[0my\u001b[0m\u001b[0;34m,\u001b[0m \u001b[0;34m**\u001b[0m\u001b[0mcheck_params\u001b[0m\u001b[0;34m)\u001b[0m\u001b[0;34m\u001b[0m\u001b[0;34m\u001b[0m\u001b[0m\n\u001b[0m\u001b[1;32m    434\u001b[0m             \u001b[0mout\u001b[0m \u001b[0;34m=\u001b[0m \u001b[0mX\u001b[0m\u001b[0;34m,\u001b[0m \u001b[0my\u001b[0m\u001b[0;34m\u001b[0m\u001b[0;34m\u001b[0m\u001b[0m\n\u001b[1;32m    435\u001b[0m \u001b[0;34m\u001b[0m\u001b[0m\n",
      "\u001b[0;32m~/opt/anaconda3/lib/python3.8/site-packages/sklearn/utils/validation.py\u001b[0m in \u001b[0;36minner_f\u001b[0;34m(*args, **kwargs)\u001b[0m\n\u001b[1;32m     61\u001b[0m             \u001b[0mextra_args\u001b[0m \u001b[0;34m=\u001b[0m \u001b[0mlen\u001b[0m\u001b[0;34m(\u001b[0m\u001b[0margs\u001b[0m\u001b[0;34m)\u001b[0m \u001b[0;34m-\u001b[0m \u001b[0mlen\u001b[0m\u001b[0;34m(\u001b[0m\u001b[0mall_args\u001b[0m\u001b[0;34m)\u001b[0m\u001b[0;34m\u001b[0m\u001b[0;34m\u001b[0m\u001b[0m\n\u001b[1;32m     62\u001b[0m             \u001b[0;32mif\u001b[0m \u001b[0mextra_args\u001b[0m \u001b[0;34m<=\u001b[0m \u001b[0;36m0\u001b[0m\u001b[0;34m:\u001b[0m\u001b[0;34m\u001b[0m\u001b[0;34m\u001b[0m\u001b[0m\n\u001b[0;32m---> 63\u001b[0;31m                 \u001b[0;32mreturn\u001b[0m \u001b[0mf\u001b[0m\u001b[0;34m(\u001b[0m\u001b[0;34m*\u001b[0m\u001b[0margs\u001b[0m\u001b[0;34m,\u001b[0m \u001b[0;34m**\u001b[0m\u001b[0mkwargs\u001b[0m\u001b[0;34m)\u001b[0m\u001b[0;34m\u001b[0m\u001b[0;34m\u001b[0m\u001b[0m\n\u001b[0m\u001b[1;32m     64\u001b[0m \u001b[0;34m\u001b[0m\u001b[0m\n\u001b[1;32m     65\u001b[0m             \u001b[0;31m# extra_args > 0\u001b[0m\u001b[0;34m\u001b[0m\u001b[0;34m\u001b[0m\u001b[0;34m\u001b[0m\u001b[0m\n",
      "\u001b[0;32m~/opt/anaconda3/lib/python3.8/site-packages/sklearn/utils/validation.py\u001b[0m in \u001b[0;36mcheck_X_y\u001b[0;34m(X, y, accept_sparse, accept_large_sparse, dtype, order, copy, force_all_finite, ensure_2d, allow_nd, multi_output, ensure_min_samples, ensure_min_features, y_numeric, estimator)\u001b[0m\n\u001b[1;32m    812\u001b[0m         \u001b[0;32mraise\u001b[0m \u001b[0mValueError\u001b[0m\u001b[0;34m(\u001b[0m\u001b[0;34m\"y cannot be None\"\u001b[0m\u001b[0;34m)\u001b[0m\u001b[0;34m\u001b[0m\u001b[0;34m\u001b[0m\u001b[0m\n\u001b[1;32m    813\u001b[0m \u001b[0;34m\u001b[0m\u001b[0m\n\u001b[0;32m--> 814\u001b[0;31m     X = check_array(X, accept_sparse=accept_sparse,\n\u001b[0m\u001b[1;32m    815\u001b[0m                     \u001b[0maccept_large_sparse\u001b[0m\u001b[0;34m=\u001b[0m\u001b[0maccept_large_sparse\u001b[0m\u001b[0;34m,\u001b[0m\u001b[0;34m\u001b[0m\u001b[0;34m\u001b[0m\u001b[0m\n\u001b[1;32m    816\u001b[0m                     \u001b[0mdtype\u001b[0m\u001b[0;34m=\u001b[0m\u001b[0mdtype\u001b[0m\u001b[0;34m,\u001b[0m \u001b[0morder\u001b[0m\u001b[0;34m=\u001b[0m\u001b[0morder\u001b[0m\u001b[0;34m,\u001b[0m \u001b[0mcopy\u001b[0m\u001b[0;34m=\u001b[0m\u001b[0mcopy\u001b[0m\u001b[0;34m,\u001b[0m\u001b[0;34m\u001b[0m\u001b[0;34m\u001b[0m\u001b[0m\n",
      "\u001b[0;32m~/opt/anaconda3/lib/python3.8/site-packages/sklearn/utils/validation.py\u001b[0m in \u001b[0;36minner_f\u001b[0;34m(*args, **kwargs)\u001b[0m\n\u001b[1;32m     61\u001b[0m             \u001b[0mextra_args\u001b[0m \u001b[0;34m=\u001b[0m \u001b[0mlen\u001b[0m\u001b[0;34m(\u001b[0m\u001b[0margs\u001b[0m\u001b[0;34m)\u001b[0m \u001b[0;34m-\u001b[0m \u001b[0mlen\u001b[0m\u001b[0;34m(\u001b[0m\u001b[0mall_args\u001b[0m\u001b[0;34m)\u001b[0m\u001b[0;34m\u001b[0m\u001b[0;34m\u001b[0m\u001b[0m\n\u001b[1;32m     62\u001b[0m             \u001b[0;32mif\u001b[0m \u001b[0mextra_args\u001b[0m \u001b[0;34m<=\u001b[0m \u001b[0;36m0\u001b[0m\u001b[0;34m:\u001b[0m\u001b[0;34m\u001b[0m\u001b[0;34m\u001b[0m\u001b[0m\n\u001b[0;32m---> 63\u001b[0;31m                 \u001b[0;32mreturn\u001b[0m \u001b[0mf\u001b[0m\u001b[0;34m(\u001b[0m\u001b[0;34m*\u001b[0m\u001b[0margs\u001b[0m\u001b[0;34m,\u001b[0m \u001b[0;34m**\u001b[0m\u001b[0mkwargs\u001b[0m\u001b[0;34m)\u001b[0m\u001b[0;34m\u001b[0m\u001b[0;34m\u001b[0m\u001b[0m\n\u001b[0m\u001b[1;32m     64\u001b[0m \u001b[0;34m\u001b[0m\u001b[0m\n\u001b[1;32m     65\u001b[0m             \u001b[0;31m# extra_args > 0\u001b[0m\u001b[0;34m\u001b[0m\u001b[0;34m\u001b[0m\u001b[0;34m\u001b[0m\u001b[0m\n",
      "\u001b[0;32m~/opt/anaconda3/lib/python3.8/site-packages/sklearn/utils/validation.py\u001b[0m in \u001b[0;36mcheck_array\u001b[0;34m(array, accept_sparse, accept_large_sparse, dtype, order, copy, force_all_finite, ensure_2d, allow_nd, ensure_min_samples, ensure_min_features, estimator)\u001b[0m\n\u001b[1;32m    661\u001b[0m \u001b[0;34m\u001b[0m\u001b[0m\n\u001b[1;32m    662\u001b[0m         \u001b[0;32mif\u001b[0m \u001b[0mforce_all_finite\u001b[0m\u001b[0;34m:\u001b[0m\u001b[0;34m\u001b[0m\u001b[0;34m\u001b[0m\u001b[0m\n\u001b[0;32m--> 663\u001b[0;31m             _assert_all_finite(array,\n\u001b[0m\u001b[1;32m    664\u001b[0m                                allow_nan=force_all_finite == 'allow-nan')\n\u001b[1;32m    665\u001b[0m \u001b[0;34m\u001b[0m\u001b[0m\n",
      "\u001b[0;32m~/opt/anaconda3/lib/python3.8/site-packages/sklearn/utils/validation.py\u001b[0m in \u001b[0;36m_assert_all_finite\u001b[0;34m(X, allow_nan, msg_dtype)\u001b[0m\n\u001b[1;32m    101\u001b[0m                 not allow_nan and not np.isfinite(X).all()):\n\u001b[1;32m    102\u001b[0m             \u001b[0mtype_err\u001b[0m \u001b[0;34m=\u001b[0m \u001b[0;34m'infinity'\u001b[0m \u001b[0;32mif\u001b[0m \u001b[0mallow_nan\u001b[0m \u001b[0;32melse\u001b[0m \u001b[0;34m'NaN, infinity'\u001b[0m\u001b[0;34m\u001b[0m\u001b[0;34m\u001b[0m\u001b[0m\n\u001b[0;32m--> 103\u001b[0;31m             raise ValueError(\n\u001b[0m\u001b[1;32m    104\u001b[0m                     \u001b[0mmsg_err\u001b[0m\u001b[0;34m.\u001b[0m\u001b[0mformat\u001b[0m\u001b[0;34m\u001b[0m\u001b[0;34m\u001b[0m\u001b[0m\n\u001b[1;32m    105\u001b[0m                     (type_err,\n",
      "\u001b[0;31mValueError\u001b[0m: Input contains NaN, infinity or a value too large for dtype('float64')."
     ]
    }
   ],
   "source": [
    "#instantiate lr estimator\n",
    "lr = LinearRegression(n_jobs = -1)\n",
    "\n",
    "\n",
    "\n",
    "#fit estimator\n",
    "model = lr.fit(X_train, y_train)\n",
    "model\n",
    "#predict and score\n",
    "a\n",
    " \n",
    "\n"
   ]
  },
  {
   "cell_type": "code",
   "execution_count": null,
   "id": "f65fe848",
   "metadata": {},
   "outputs": [],
   "source": [
    "#Scoring\n",
    "lr.score(X_train, y_train)"
   ]
  },
  {
   "cell_type": "code",
   "execution_count": null,
   "id": "bf715d94",
   "metadata": {},
   "outputs": [],
   "source": [
    "lr.score(X_test, y_test)"
   ]
  },
  {
   "cell_type": "code",
   "execution_count": null,
   "id": "3469bd2d",
   "metadata": {},
   "outputs": [],
   "source": [
    "cross_val_score(lr, X_train, y_train).mean()"
   ]
  },
  {
   "cell_type": "code",
   "execution_count": null,
   "id": "cf9d97c1",
   "metadata": {},
   "outputs": [],
   "source": [
    "# Checking for homoscedasticy of the error and normal distribution of eror\n",
    "pred=lm.predict(X_test)"
   ]
  },
  {
   "cell_type": "code",
   "execution_count": null,
   "id": "119d5529",
   "metadata": {},
   "outputs": [],
   "source": [
    "residuals = y_test - pred"
   ]
  },
  {
   "cell_type": "code",
   "execution_count": null,
   "id": "51a116d9",
   "metadata": {},
   "outputs": [],
   "source": [
    "plt.hist(residuals);"
   ]
  },
  {
   "cell_type": "code",
   "execution_count": null,
   "id": "3fc38f23",
   "metadata": {},
   "outputs": [],
   "source": [
    "plt.scatter(pred, residuals)"
   ]
  },
  {
   "cell_type": "code",
   "execution_count": null,
   "id": "a5462b6d",
   "metadata": {},
   "outputs": [],
   "source": [
    "#Checking to see if the natural log makes a difference"
   ]
  },
  {
   "cell_type": "code",
   "execution_count": null,
   "id": "55a49cba",
   "metadata": {},
   "outputs": [],
   "source": [
    "y_test.map(np.log).hist()"
   ]
  },
  {
   "cell_type": "code",
   "execution_count": null,
   "id": "15420a30",
   "metadata": {},
   "outputs": [],
   "source": [
    "#Transforming with the natural log as above shows distribution is normal"
   ]
  },
  {
   "cell_type": "code",
   "execution_count": null,
   "id": "5934cd85",
   "metadata": {},
   "outputs": [],
   "source": [
    "y_train_log = y_train.map(np.log)\n",
    "y_test_log = y_test.map(np.log)\n"
   ]
  }
 ],
 "metadata": {
  "kernelspec": {
   "display_name": "Python 3",
   "language": "python",
   "name": "python3"
  },
  "language_info": {
   "codemirror_mode": {
    "name": "ipython",
    "version": 3
   },
   "file_extension": ".py",
   "mimetype": "text/x-python",
   "name": "python",
   "nbconvert_exporter": "python",
   "pygments_lexer": "ipython3",
   "version": "3.8.8"
  }
 },
 "nbformat": 4,
 "nbformat_minor": 5
}
